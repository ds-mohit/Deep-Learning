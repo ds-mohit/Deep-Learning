{
 "cells": [
  {
   "cell_type": "markdown",
   "id": "aecf6011",
   "metadata": {},
   "source": [
    "## ```logistic Regression```"
   ]
  },
  {
   "cell_type": "markdown",
   "id": "5ecccbd5",
   "metadata": {},
   "source": [
    "#### this is used for classification of data in one form e.g. win/loss, etc.\n",
    "#### this used for probability.\n",
    "#### it's outcome is binary."
   ]
  },
  {
   "cell_type": "code",
   "execution_count": 105,
   "id": "c7a90424",
   "metadata": {},
   "outputs": [],
   "source": [
    "import numpy as np\n",
    "import pandas as pd\n",
    "import matplotlib.pyplot as plt\n",
    "import seaborn as sns\n"
   ]
  },
  {
   "cell_type": "code",
   "execution_count": 106,
   "id": "6af0f21d",
   "metadata": {},
   "outputs": [
    {
     "name": "stdout",
     "output_type": "stream",
     "text": [
      "<class 'pandas.core.frame.DataFrame'>\n",
      "RangeIndex: 103904 entries, 0 to 103903\n",
      "Data columns (total 12 columns):\n",
      " #   Column                      Non-Null Count   Dtype  \n",
      "---  ------                      --------------   -----  \n",
      " 0   Gender                      103904 non-null  object \n",
      " 1   Customer Type               103904 non-null  object \n",
      " 2   Type of Travel              103904 non-null  object \n",
      " 3   Class                       103904 non-null  object \n",
      " 4   satisfaction                103904 non-null  object \n",
      " 5   Age                         103904 non-null  int64  \n",
      " 6   Flight Distance             103904 non-null  int64  \n",
      " 7   Inflight entertainment      103904 non-null  int64  \n",
      " 8   Baggage handling            103904 non-null  int64  \n",
      " 9   Cleanliness                 103904 non-null  int64  \n",
      " 10  Departure Delay in Minutes  103904 non-null  int64  \n",
      " 11  Arrival Delay in Minutes    103594 non-null  float64\n",
      "dtypes: float64(1), int64(6), object(5)\n",
      "memory usage: 9.5+ MB\n"
     ]
    },
    {
     "data": {
      "text/html": [
       "<div>\n",
       "<style scoped>\n",
       "    .dataframe tbody tr th:only-of-type {\n",
       "        vertical-align: middle;\n",
       "    }\n",
       "\n",
       "    .dataframe tbody tr th {\n",
       "        vertical-align: top;\n",
       "    }\n",
       "\n",
       "    .dataframe thead th {\n",
       "        text-align: right;\n",
       "    }\n",
       "</style>\n",
       "<table border=\"1\" class=\"dataframe\">\n",
       "  <thead>\n",
       "    <tr style=\"text-align: right;\">\n",
       "      <th></th>\n",
       "      <th>Gender</th>\n",
       "      <th>Customer Type</th>\n",
       "      <th>Type of Travel</th>\n",
       "      <th>Class</th>\n",
       "      <th>satisfaction</th>\n",
       "      <th>Age</th>\n",
       "      <th>Flight Distance</th>\n",
       "      <th>Inflight entertainment</th>\n",
       "      <th>Baggage handling</th>\n",
       "      <th>Cleanliness</th>\n",
       "      <th>Departure Delay in Minutes</th>\n",
       "      <th>Arrival Delay in Minutes</th>\n",
       "    </tr>\n",
       "  </thead>\n",
       "  <tbody>\n",
       "    <tr>\n",
       "      <th>0</th>\n",
       "      <td>Male</td>\n",
       "      <td>Loyal Customer</td>\n",
       "      <td>Personal Travel</td>\n",
       "      <td>Eco Plus</td>\n",
       "      <td>neutral or dissatisfied</td>\n",
       "      <td>13</td>\n",
       "      <td>460</td>\n",
       "      <td>5</td>\n",
       "      <td>4</td>\n",
       "      <td>5</td>\n",
       "      <td>25</td>\n",
       "      <td>18.0</td>\n",
       "    </tr>\n",
       "    <tr>\n",
       "      <th>1</th>\n",
       "      <td>Male</td>\n",
       "      <td>disloyal Customer</td>\n",
       "      <td>Business travel</td>\n",
       "      <td>Business</td>\n",
       "      <td>neutral or dissatisfied</td>\n",
       "      <td>25</td>\n",
       "      <td>235</td>\n",
       "      <td>1</td>\n",
       "      <td>3</td>\n",
       "      <td>1</td>\n",
       "      <td>1</td>\n",
       "      <td>6.0</td>\n",
       "    </tr>\n",
       "    <tr>\n",
       "      <th>2</th>\n",
       "      <td>Female</td>\n",
       "      <td>Loyal Customer</td>\n",
       "      <td>Business travel</td>\n",
       "      <td>Business</td>\n",
       "      <td>satisfied</td>\n",
       "      <td>26</td>\n",
       "      <td>1142</td>\n",
       "      <td>5</td>\n",
       "      <td>4</td>\n",
       "      <td>5</td>\n",
       "      <td>0</td>\n",
       "      <td>0.0</td>\n",
       "    </tr>\n",
       "    <tr>\n",
       "      <th>3</th>\n",
       "      <td>Female</td>\n",
       "      <td>Loyal Customer</td>\n",
       "      <td>Business travel</td>\n",
       "      <td>Business</td>\n",
       "      <td>neutral or dissatisfied</td>\n",
       "      <td>25</td>\n",
       "      <td>562</td>\n",
       "      <td>2</td>\n",
       "      <td>3</td>\n",
       "      <td>2</td>\n",
       "      <td>11</td>\n",
       "      <td>9.0</td>\n",
       "    </tr>\n",
       "    <tr>\n",
       "      <th>4</th>\n",
       "      <td>Male</td>\n",
       "      <td>Loyal Customer</td>\n",
       "      <td>Business travel</td>\n",
       "      <td>Business</td>\n",
       "      <td>satisfied</td>\n",
       "      <td>61</td>\n",
       "      <td>214</td>\n",
       "      <td>3</td>\n",
       "      <td>4</td>\n",
       "      <td>3</td>\n",
       "      <td>0</td>\n",
       "      <td>0.0</td>\n",
       "    </tr>\n",
       "  </tbody>\n",
       "</table>\n",
       "</div>"
      ],
      "text/plain": [
       "   Gender      Customer Type   Type of Travel     Class  \\\n",
       "0    Male     Loyal Customer  Personal Travel  Eco Plus   \n",
       "1    Male  disloyal Customer  Business travel  Business   \n",
       "2  Female     Loyal Customer  Business travel  Business   \n",
       "3  Female     Loyal Customer  Business travel  Business   \n",
       "4    Male     Loyal Customer  Business travel  Business   \n",
       "\n",
       "              satisfaction  Age  Flight Distance  Inflight entertainment  \\\n",
       "0  neutral or dissatisfied   13              460                       5   \n",
       "1  neutral or dissatisfied   25              235                       1   \n",
       "2                satisfied   26             1142                       5   \n",
       "3  neutral or dissatisfied   25              562                       2   \n",
       "4                satisfied   61              214                       3   \n",
       "\n",
       "   Baggage handling  Cleanliness  Departure Delay in Minutes  \\\n",
       "0                 4            5                          25   \n",
       "1                 3            1                           1   \n",
       "2                 4            5                           0   \n",
       "3                 3            2                          11   \n",
       "4                 4            3                           0   \n",
       "\n",
       "   Arrival Delay in Minutes  \n",
       "0                      18.0  \n",
       "1                       6.0  \n",
       "2                       0.0  \n",
       "3                       9.0  \n",
       "4                       0.0  "
      ]
     },
     "execution_count": 106,
     "metadata": {},
     "output_type": "execute_result"
    }
   ],
   "source": [
    "df=pd.read_csv(\"cust_satisfaction.csv\")\n",
    "df.info()\n",
    "df.head()"
   ]
  },
  {
   "cell_type": "code",
   "execution_count": 107,
   "id": "fe6a969c",
   "metadata": {},
   "outputs": [
    {
     "data": {
      "text/plain": [
       "np.int64(172)"
      ]
     },
     "execution_count": 107,
     "metadata": {},
     "output_type": "execute_result"
    }
   ],
   "source": [
    "df.duplicated()\n",
    "df.duplicated().sum()"
   ]
  },
  {
   "cell_type": "code",
   "execution_count": 108,
   "id": "855f5621",
   "metadata": {},
   "outputs": [],
   "source": [
    "df.drop_duplicates(inplace=True)"
   ]
  },
  {
   "cell_type": "code",
   "execution_count": 109,
   "id": "4d3e737b",
   "metadata": {},
   "outputs": [
    {
     "data": {
      "text/plain": [
       "np.int64(0)"
      ]
     },
     "execution_count": 109,
     "metadata": {},
     "output_type": "execute_result"
    }
   ],
   "source": [
    "df.duplicated().sum()"
   ]
  },
  {
   "cell_type": "code",
   "execution_count": 110,
   "id": "da52370e",
   "metadata": {},
   "outputs": [
    {
     "data": {
      "text/plain": [
       "Gender                          0\n",
       "Customer Type                   0\n",
       "Type of Travel                  0\n",
       "Class                           0\n",
       "satisfaction                    0\n",
       "Age                             0\n",
       "Flight Distance                 0\n",
       "Inflight entertainment          0\n",
       "Baggage handling                0\n",
       "Cleanliness                     0\n",
       "Departure Delay in Minutes      0\n",
       "Arrival Delay in Minutes      310\n",
       "dtype: int64"
      ]
     },
     "execution_count": 110,
     "metadata": {},
     "output_type": "execute_result"
    }
   ],
   "source": [
    "df.isnull().sum()"
   ]
  },
  {
   "cell_type": "code",
   "execution_count": 111,
   "id": "a542241b",
   "metadata": {},
   "outputs": [
    {
     "data": {
      "text/plain": [
       "Gender                        0\n",
       "Customer Type                 0\n",
       "Type of Travel                0\n",
       "Class                         0\n",
       "satisfaction                  0\n",
       "Age                           0\n",
       "Flight Distance               0\n",
       "Inflight entertainment        0\n",
       "Baggage handling              0\n",
       "Cleanliness                   0\n",
       "Departure Delay in Minutes    0\n",
       "Arrival Delay in Minutes      0\n",
       "dtype: int64"
      ]
     },
     "execution_count": 111,
     "metadata": {},
     "output_type": "execute_result"
    }
   ],
   "source": [
    "df.dropna(inplace=True)\n",
    "df.isnull().sum()"
   ]
  },
  {
   "cell_type": "code",
   "execution_count": 112,
   "id": "dedafc47",
   "metadata": {},
   "outputs": [
    {
     "data": {
      "text/plain": [
       "Customer Type\n",
       "Loyal Customer       84517\n",
       "disloyal Customer    18905\n",
       "Name: count, dtype: int64"
      ]
     },
     "execution_count": 112,
     "metadata": {},
     "output_type": "execute_result"
    }
   ],
   "source": [
    "df['Customer Type'].value_counts()"
   ]
  },
  {
   "cell_type": "code",
   "execution_count": 113,
   "id": "cc9bb1f2",
   "metadata": {},
   "outputs": [],
   "source": [
    "loyal_customer=df[df['Customer Type']=='Loyal Customer']\n",
    "disloyal_customer=df[df['Customer Type']=='disloyal Customer']"
   ]
  },
  {
   "cell_type": "code",
   "execution_count": 114,
   "id": "43e1dd36",
   "metadata": {},
   "outputs": [
    {
     "data": {
      "text/plain": [
       "(20000, 12)"
      ]
     },
     "execution_count": 114,
     "metadata": {},
     "output_type": "execute_result"
    }
   ],
   "source": [
    "loyal_customer = loyal_customer.sample(20000)\n",
    "loyal_customer.shape"
   ]
  },
  {
   "cell_type": "code",
   "execution_count": 115,
   "id": "b2aed884",
   "metadata": {},
   "outputs": [
    {
     "data": {
      "text/plain": [
       "(38905, 12)"
      ]
     },
     "execution_count": 115,
     "metadata": {},
     "output_type": "execute_result"
    }
   ],
   "source": [
    "balance_df=pd.concat([loyal_customer,disloyal_customer],axis=0)\n",
    "balance_df.shape"
   ]
  },
  {
   "cell_type": "code",
   "execution_count": 116,
   "id": "ad7c74d0",
   "metadata": {},
   "outputs": [
    {
     "data": {
      "text/html": [
       "<div>\n",
       "<style scoped>\n",
       "    .dataframe tbody tr th:only-of-type {\n",
       "        vertical-align: middle;\n",
       "    }\n",
       "\n",
       "    .dataframe tbody tr th {\n",
       "        vertical-align: top;\n",
       "    }\n",
       "\n",
       "    .dataframe thead th {\n",
       "        text-align: right;\n",
       "    }\n",
       "</style>\n",
       "<table border=\"1\" class=\"dataframe\">\n",
       "  <thead>\n",
       "    <tr style=\"text-align: right;\">\n",
       "      <th></th>\n",
       "      <th>Gender</th>\n",
       "      <th>Customer Type</th>\n",
       "      <th>Type of Travel</th>\n",
       "      <th>Class</th>\n",
       "      <th>satisfaction</th>\n",
       "    </tr>\n",
       "  </thead>\n",
       "  <tbody>\n",
       "    <tr>\n",
       "      <th>25910</th>\n",
       "      <td>Female</td>\n",
       "      <td>Loyal Customer</td>\n",
       "      <td>Business travel</td>\n",
       "      <td>Business</td>\n",
       "      <td>neutral or dissatisfied</td>\n",
       "    </tr>\n",
       "    <tr>\n",
       "      <th>69833</th>\n",
       "      <td>Male</td>\n",
       "      <td>Loyal Customer</td>\n",
       "      <td>Business travel</td>\n",
       "      <td>Eco Plus</td>\n",
       "      <td>satisfied</td>\n",
       "    </tr>\n",
       "    <tr>\n",
       "      <th>6959</th>\n",
       "      <td>Female</td>\n",
       "      <td>Loyal Customer</td>\n",
       "      <td>Business travel</td>\n",
       "      <td>Business</td>\n",
       "      <td>satisfied</td>\n",
       "    </tr>\n",
       "    <tr>\n",
       "      <th>68748</th>\n",
       "      <td>Female</td>\n",
       "      <td>Loyal Customer</td>\n",
       "      <td>Business travel</td>\n",
       "      <td>Business</td>\n",
       "      <td>neutral or dissatisfied</td>\n",
       "    </tr>\n",
       "    <tr>\n",
       "      <th>29870</th>\n",
       "      <td>Female</td>\n",
       "      <td>Loyal Customer</td>\n",
       "      <td>Business travel</td>\n",
       "      <td>Eco</td>\n",
       "      <td>neutral or dissatisfied</td>\n",
       "    </tr>\n",
       "  </tbody>\n",
       "</table>\n",
       "</div>"
      ],
      "text/plain": [
       "       Gender   Customer Type   Type of Travel     Class  \\\n",
       "25910  Female  Loyal Customer  Business travel  Business   \n",
       "69833    Male  Loyal Customer  Business travel  Eco Plus   \n",
       "6959   Female  Loyal Customer  Business travel  Business   \n",
       "68748  Female  Loyal Customer  Business travel  Business   \n",
       "29870  Female  Loyal Customer  Business travel       Eco   \n",
       "\n",
       "                  satisfaction  \n",
       "25910  neutral or dissatisfied  \n",
       "69833                satisfied  \n",
       "6959                 satisfied  \n",
       "68748  neutral or dissatisfied  \n",
       "29870  neutral or dissatisfied  "
      ]
     },
     "execution_count": 116,
     "metadata": {},
     "output_type": "execute_result"
    }
   ],
   "source": [
    "cat_col=balance_df.select_dtypes(include='object')\n",
    "cat_col.head()"
   ]
  },
  {
   "cell_type": "code",
   "execution_count": 117,
   "id": "54860cc1",
   "metadata": {},
   "outputs": [],
   "source": [
    "#cat_col=cat_col.drop([])"
   ]
  },
  {
   "cell_type": "code",
   "execution_count": 118,
   "id": "2ce2db94",
   "metadata": {},
   "outputs": [
    {
     "data": {
      "text/html": [
       "<div>\n",
       "<style scoped>\n",
       "    .dataframe tbody tr th:only-of-type {\n",
       "        vertical-align: middle;\n",
       "    }\n",
       "\n",
       "    .dataframe tbody tr th {\n",
       "        vertical-align: top;\n",
       "    }\n",
       "\n",
       "    .dataframe thead th {\n",
       "        text-align: right;\n",
       "    }\n",
       "</style>\n",
       "<table border=\"1\" class=\"dataframe\">\n",
       "  <thead>\n",
       "    <tr style=\"text-align: right;\">\n",
       "      <th></th>\n",
       "      <th>Age</th>\n",
       "      <th>Flight Distance</th>\n",
       "      <th>Inflight entertainment</th>\n",
       "      <th>Baggage handling</th>\n",
       "      <th>Cleanliness</th>\n",
       "      <th>Departure Delay in Minutes</th>\n",
       "      <th>Arrival Delay in Minutes</th>\n",
       "    </tr>\n",
       "  </thead>\n",
       "  <tbody>\n",
       "    <tr>\n",
       "      <th>25910</th>\n",
       "      <td>55</td>\n",
       "      <td>2133</td>\n",
       "      <td>3</td>\n",
       "      <td>1</td>\n",
       "      <td>2</td>\n",
       "      <td>0</td>\n",
       "      <td>0.0</td>\n",
       "    </tr>\n",
       "    <tr>\n",
       "      <th>69833</th>\n",
       "      <td>48</td>\n",
       "      <td>376</td>\n",
       "      <td>4</td>\n",
       "      <td>1</td>\n",
       "      <td>4</td>\n",
       "      <td>0</td>\n",
       "      <td>2.0</td>\n",
       "    </tr>\n",
       "    <tr>\n",
       "      <th>6959</th>\n",
       "      <td>59</td>\n",
       "      <td>3887</td>\n",
       "      <td>5</td>\n",
       "      <td>5</td>\n",
       "      <td>4</td>\n",
       "      <td>0</td>\n",
       "      <td>0.0</td>\n",
       "    </tr>\n",
       "    <tr>\n",
       "      <th>68748</th>\n",
       "      <td>58</td>\n",
       "      <td>1904</td>\n",
       "      <td>1</td>\n",
       "      <td>1</td>\n",
       "      <td>4</td>\n",
       "      <td>0</td>\n",
       "      <td>8.0</td>\n",
       "    </tr>\n",
       "    <tr>\n",
       "      <th>29870</th>\n",
       "      <td>50</td>\n",
       "      <td>451</td>\n",
       "      <td>4</td>\n",
       "      <td>4</td>\n",
       "      <td>2</td>\n",
       "      <td>23</td>\n",
       "      <td>11.0</td>\n",
       "    </tr>\n",
       "  </tbody>\n",
       "</table>\n",
       "</div>"
      ],
      "text/plain": [
       "       Age  Flight Distance  Inflight entertainment  Baggage handling  \\\n",
       "25910   55             2133                       3                 1   \n",
       "69833   48              376                       4                 1   \n",
       "6959    59             3887                       5                 5   \n",
       "68748   58             1904                       1                 1   \n",
       "29870   50              451                       4                 4   \n",
       "\n",
       "       Cleanliness  Departure Delay in Minutes  Arrival Delay in Minutes  \n",
       "25910            2                           0                       0.0  \n",
       "69833            4                           0                       2.0  \n",
       "6959             4                           0                       0.0  \n",
       "68748            4                           0                       8.0  \n",
       "29870            2                          23                      11.0  "
      ]
     },
     "execution_count": 118,
     "metadata": {},
     "output_type": "execute_result"
    }
   ],
   "source": [
    "num_col=balance_df.select_dtypes(exclude=[\"object\"])\n",
    "num_col.head()"
   ]
  },
  {
   "cell_type": "code",
   "execution_count": 119,
   "id": "d8d56c3c",
   "metadata": {},
   "outputs": [
    {
     "data": {
      "text/plain": [
       "array([[0., 0., 0., ..., 0., 0., 0.],\n",
       "       [1., 0., 0., ..., 0., 1., 1.],\n",
       "       [0., 0., 0., ..., 0., 0., 1.],\n",
       "       ...,\n",
       "       [0., 1., 0., ..., 1., 0., 0.],\n",
       "       [1., 1., 0., ..., 0., 0., 0.],\n",
       "       [0., 1., 0., ..., 1., 0., 0.]])"
      ]
     },
     "execution_count": 119,
     "metadata": {},
     "output_type": "execute_result"
    }
   ],
   "source": [
    "from sklearn.preprocessing import OneHotEncoder,LabelEncoder\n",
    "\n",
    "ohe=OneHotEncoder(drop='if_binary')\n",
    "cat_cal_encoded=ohe.fit_transform(cat_col).toarray()\n",
    "cat_cal_encoded"
   ]
  },
  {
   "cell_type": "code",
   "execution_count": 120,
   "id": "d1dd312a",
   "metadata": {},
   "outputs": [
    {
     "data": {
      "text/plain": [
       "['Gender_Male',\n",
       " 'Customer Type_disloyal Customer',\n",
       " 'Type of Travel_Personal Travel',\n",
       " 'Class_Business',\n",
       " 'Class_Eco',\n",
       " 'Class_Eco Plus',\n",
       " 'satisfaction_satisfied']"
      ]
     },
     "execution_count": 120,
     "metadata": {},
     "output_type": "execute_result"
    }
   ],
   "source": [
    "column_names=list(ohe.get_feature_names_out())\n",
    "column_names"
   ]
  },
  {
   "cell_type": "code",
   "execution_count": 121,
   "id": "e70e5dde",
   "metadata": {},
   "outputs": [
    {
     "data": {
      "text/html": [
       "<div>\n",
       "<style scoped>\n",
       "    .dataframe tbody tr th:only-of-type {\n",
       "        vertical-align: middle;\n",
       "    }\n",
       "\n",
       "    .dataframe tbody tr th {\n",
       "        vertical-align: top;\n",
       "    }\n",
       "\n",
       "    .dataframe thead th {\n",
       "        text-align: right;\n",
       "    }\n",
       "</style>\n",
       "<table border=\"1\" class=\"dataframe\">\n",
       "  <thead>\n",
       "    <tr style=\"text-align: right;\">\n",
       "      <th></th>\n",
       "      <th>Gender_Male</th>\n",
       "      <th>Customer Type_disloyal Customer</th>\n",
       "      <th>Type of Travel_Personal Travel</th>\n",
       "      <th>Class_Business</th>\n",
       "      <th>Class_Eco</th>\n",
       "      <th>Class_Eco Plus</th>\n",
       "      <th>satisfaction_satisfied</th>\n",
       "    </tr>\n",
       "  </thead>\n",
       "  <tbody>\n",
       "    <tr>\n",
       "      <th>0</th>\n",
       "      <td>0.0</td>\n",
       "      <td>0.0</td>\n",
       "      <td>0.0</td>\n",
       "      <td>1.0</td>\n",
       "      <td>0.0</td>\n",
       "      <td>0.0</td>\n",
       "      <td>0.0</td>\n",
       "    </tr>\n",
       "    <tr>\n",
       "      <th>1</th>\n",
       "      <td>1.0</td>\n",
       "      <td>0.0</td>\n",
       "      <td>0.0</td>\n",
       "      <td>0.0</td>\n",
       "      <td>0.0</td>\n",
       "      <td>1.0</td>\n",
       "      <td>1.0</td>\n",
       "    </tr>\n",
       "    <tr>\n",
       "      <th>2</th>\n",
       "      <td>0.0</td>\n",
       "      <td>0.0</td>\n",
       "      <td>0.0</td>\n",
       "      <td>1.0</td>\n",
       "      <td>0.0</td>\n",
       "      <td>0.0</td>\n",
       "      <td>1.0</td>\n",
       "    </tr>\n",
       "    <tr>\n",
       "      <th>3</th>\n",
       "      <td>0.0</td>\n",
       "      <td>0.0</td>\n",
       "      <td>0.0</td>\n",
       "      <td>1.0</td>\n",
       "      <td>0.0</td>\n",
       "      <td>0.0</td>\n",
       "      <td>0.0</td>\n",
       "    </tr>\n",
       "    <tr>\n",
       "      <th>4</th>\n",
       "      <td>0.0</td>\n",
       "      <td>0.0</td>\n",
       "      <td>0.0</td>\n",
       "      <td>0.0</td>\n",
       "      <td>1.0</td>\n",
       "      <td>0.0</td>\n",
       "      <td>0.0</td>\n",
       "    </tr>\n",
       "  </tbody>\n",
       "</table>\n",
       "</div>"
      ],
      "text/plain": [
       "   Gender_Male  Customer Type_disloyal Customer  \\\n",
       "0          0.0                              0.0   \n",
       "1          1.0                              0.0   \n",
       "2          0.0                              0.0   \n",
       "3          0.0                              0.0   \n",
       "4          0.0                              0.0   \n",
       "\n",
       "   Type of Travel_Personal Travel  Class_Business  Class_Eco  Class_Eco Plus  \\\n",
       "0                             0.0             1.0        0.0             0.0   \n",
       "1                             0.0             0.0        0.0             1.0   \n",
       "2                             0.0             1.0        0.0             0.0   \n",
       "3                             0.0             1.0        0.0             0.0   \n",
       "4                             0.0             0.0        1.0             0.0   \n",
       "\n",
       "   satisfaction_satisfied  \n",
       "0                     0.0  \n",
       "1                     1.0  \n",
       "2                     1.0  \n",
       "3                     0.0  \n",
       "4                     0.0  "
      ]
     },
     "execution_count": 121,
     "metadata": {},
     "output_type": "execute_result"
    }
   ],
   "source": [
    "one_hot=pd.DataFrame(cat_cal_encoded,columns=column_names)\n",
    "one_hot.head()\n"
   ]
  },
  {
   "cell_type": "code",
   "execution_count": 122,
   "id": "223f3677",
   "metadata": {},
   "outputs": [],
   "source": [
    "one_hot=one_hot.reset_index(drop=True)# to prevent from giving null values after concating \n",
    "num_col=num_col.reset_index(drop=True)"
   ]
  },
  {
   "cell_type": "code",
   "execution_count": 123,
   "id": "ba0b2ac4",
   "metadata": {},
   "outputs": [
    {
     "data": {
      "text/html": [
       "<div>\n",
       "<style scoped>\n",
       "    .dataframe tbody tr th:only-of-type {\n",
       "        vertical-align: middle;\n",
       "    }\n",
       "\n",
       "    .dataframe tbody tr th {\n",
       "        vertical-align: top;\n",
       "    }\n",
       "\n",
       "    .dataframe thead th {\n",
       "        text-align: right;\n",
       "    }\n",
       "</style>\n",
       "<table border=\"1\" class=\"dataframe\">\n",
       "  <thead>\n",
       "    <tr style=\"text-align: right;\">\n",
       "      <th></th>\n",
       "      <th>Age</th>\n",
       "      <th>Flight Distance</th>\n",
       "      <th>Inflight entertainment</th>\n",
       "      <th>Baggage handling</th>\n",
       "      <th>Cleanliness</th>\n",
       "      <th>Departure Delay in Minutes</th>\n",
       "      <th>Arrival Delay in Minutes</th>\n",
       "      <th>Gender_Male</th>\n",
       "      <th>Customer Type_disloyal Customer</th>\n",
       "      <th>Type of Travel_Personal Travel</th>\n",
       "      <th>Class_Business</th>\n",
       "      <th>Class_Eco</th>\n",
       "      <th>Class_Eco Plus</th>\n",
       "      <th>satisfaction_satisfied</th>\n",
       "    </tr>\n",
       "  </thead>\n",
       "  <tbody>\n",
       "    <tr>\n",
       "      <th>0</th>\n",
       "      <td>55</td>\n",
       "      <td>2133</td>\n",
       "      <td>3</td>\n",
       "      <td>1</td>\n",
       "      <td>2</td>\n",
       "      <td>0</td>\n",
       "      <td>0.0</td>\n",
       "      <td>0.0</td>\n",
       "      <td>0.0</td>\n",
       "      <td>0.0</td>\n",
       "      <td>1.0</td>\n",
       "      <td>0.0</td>\n",
       "      <td>0.0</td>\n",
       "      <td>0.0</td>\n",
       "    </tr>\n",
       "    <tr>\n",
       "      <th>1</th>\n",
       "      <td>48</td>\n",
       "      <td>376</td>\n",
       "      <td>4</td>\n",
       "      <td>1</td>\n",
       "      <td>4</td>\n",
       "      <td>0</td>\n",
       "      <td>2.0</td>\n",
       "      <td>1.0</td>\n",
       "      <td>0.0</td>\n",
       "      <td>0.0</td>\n",
       "      <td>0.0</td>\n",
       "      <td>0.0</td>\n",
       "      <td>1.0</td>\n",
       "      <td>1.0</td>\n",
       "    </tr>\n",
       "    <tr>\n",
       "      <th>2</th>\n",
       "      <td>59</td>\n",
       "      <td>3887</td>\n",
       "      <td>5</td>\n",
       "      <td>5</td>\n",
       "      <td>4</td>\n",
       "      <td>0</td>\n",
       "      <td>0.0</td>\n",
       "      <td>0.0</td>\n",
       "      <td>0.0</td>\n",
       "      <td>0.0</td>\n",
       "      <td>1.0</td>\n",
       "      <td>0.0</td>\n",
       "      <td>0.0</td>\n",
       "      <td>1.0</td>\n",
       "    </tr>\n",
       "    <tr>\n",
       "      <th>3</th>\n",
       "      <td>58</td>\n",
       "      <td>1904</td>\n",
       "      <td>1</td>\n",
       "      <td>1</td>\n",
       "      <td>4</td>\n",
       "      <td>0</td>\n",
       "      <td>8.0</td>\n",
       "      <td>0.0</td>\n",
       "      <td>0.0</td>\n",
       "      <td>0.0</td>\n",
       "      <td>1.0</td>\n",
       "      <td>0.0</td>\n",
       "      <td>0.0</td>\n",
       "      <td>0.0</td>\n",
       "    </tr>\n",
       "    <tr>\n",
       "      <th>4</th>\n",
       "      <td>50</td>\n",
       "      <td>451</td>\n",
       "      <td>4</td>\n",
       "      <td>4</td>\n",
       "      <td>2</td>\n",
       "      <td>23</td>\n",
       "      <td>11.0</td>\n",
       "      <td>0.0</td>\n",
       "      <td>0.0</td>\n",
       "      <td>0.0</td>\n",
       "      <td>0.0</td>\n",
       "      <td>1.0</td>\n",
       "      <td>0.0</td>\n",
       "      <td>0.0</td>\n",
       "    </tr>\n",
       "  </tbody>\n",
       "</table>\n",
       "</div>"
      ],
      "text/plain": [
       "   Age  Flight Distance  Inflight entertainment  Baggage handling  \\\n",
       "0   55             2133                       3                 1   \n",
       "1   48              376                       4                 1   \n",
       "2   59             3887                       5                 5   \n",
       "3   58             1904                       1                 1   \n",
       "4   50              451                       4                 4   \n",
       "\n",
       "   Cleanliness  Departure Delay in Minutes  Arrival Delay in Minutes  \\\n",
       "0            2                           0                       0.0   \n",
       "1            4                           0                       2.0   \n",
       "2            4                           0                       0.0   \n",
       "3            4                           0                       8.0   \n",
       "4            2                          23                      11.0   \n",
       "\n",
       "   Gender_Male  Customer Type_disloyal Customer  \\\n",
       "0          0.0                              0.0   \n",
       "1          1.0                              0.0   \n",
       "2          0.0                              0.0   \n",
       "3          0.0                              0.0   \n",
       "4          0.0                              0.0   \n",
       "\n",
       "   Type of Travel_Personal Travel  Class_Business  Class_Eco  Class_Eco Plus  \\\n",
       "0                             0.0             1.0        0.0             0.0   \n",
       "1                             0.0             0.0        0.0             1.0   \n",
       "2                             0.0             1.0        0.0             0.0   \n",
       "3                             0.0             1.0        0.0             0.0   \n",
       "4                             0.0             0.0        1.0             0.0   \n",
       "\n",
       "   satisfaction_satisfied  \n",
       "0                     0.0  \n",
       "1                     1.0  \n",
       "2                     1.0  \n",
       "3                     0.0  \n",
       "4                     0.0  "
      ]
     },
     "execution_count": 123,
     "metadata": {},
     "output_type": "execute_result"
    }
   ],
   "source": [
    "final_df=pd.concat([num_col,one_hot],axis=1)\n",
    "final_df.head()"
   ]
  },
  {
   "cell_type": "code",
   "execution_count": 124,
   "id": "47d09d33",
   "metadata": {},
   "outputs": [
    {
     "data": {
      "text/html": [
       "<div>\n",
       "<style scoped>\n",
       "    .dataframe tbody tr th:only-of-type {\n",
       "        vertical-align: middle;\n",
       "    }\n",
       "\n",
       "    .dataframe tbody tr th {\n",
       "        vertical-align: top;\n",
       "    }\n",
       "\n",
       "    .dataframe thead th {\n",
       "        text-align: right;\n",
       "    }\n",
       "</style>\n",
       "<table border=\"1\" class=\"dataframe\">\n",
       "  <thead>\n",
       "    <tr style=\"text-align: right;\">\n",
       "      <th></th>\n",
       "      <th>Age</th>\n",
       "      <th>Flight Distance</th>\n",
       "      <th>Inflight entertainment</th>\n",
       "      <th>Baggage handling</th>\n",
       "      <th>Cleanliness</th>\n",
       "      <th>Departure Delay in Minutes</th>\n",
       "      <th>Arrival Delay in Minutes</th>\n",
       "      <th>Gender_Male</th>\n",
       "      <th>Customer Type_disloyal Customer</th>\n",
       "      <th>Type of Travel_Personal Travel</th>\n",
       "      <th>Class_Business</th>\n",
       "      <th>Class_Eco</th>\n",
       "      <th>Class_Eco Plus</th>\n",
       "      <th>satisfaction_satisfied</th>\n",
       "    </tr>\n",
       "  </thead>\n",
       "  <tbody>\n",
       "    <tr>\n",
       "      <th>Age</th>\n",
       "      <td>1.000000</td>\n",
       "      <td>0.137097</td>\n",
       "      <td>0.085699</td>\n",
       "      <td>-0.041478</td>\n",
       "      <td>0.059007</td>\n",
       "      <td>-0.008901</td>\n",
       "      <td>-0.011178</td>\n",
       "      <td>0.018786</td>\n",
       "      <td>-0.378008</td>\n",
       "      <td>0.077997</td>\n",
       "      <td>0.169248</td>\n",
       "      <td>-0.176996</td>\n",
       "      <td>0.018635</td>\n",
       "      <td>0.126743</td>\n",
       "    </tr>\n",
       "    <tr>\n",
       "      <th>Flight Distance</th>\n",
       "      <td>0.137097</td>\n",
       "      <td>1.000000</td>\n",
       "      <td>0.122672</td>\n",
       "      <td>0.050866</td>\n",
       "      <td>0.084198</td>\n",
       "      <td>-0.002914</td>\n",
       "      <td>-0.007440</td>\n",
       "      <td>0.005856</td>\n",
       "      <td>-0.328845</td>\n",
       "      <td>-0.129902</td>\n",
       "      <td>0.379142</td>\n",
       "      <td>-0.338308</td>\n",
       "      <td>-0.081468</td>\n",
       "      <td>0.278473</td>\n",
       "    </tr>\n",
       "    <tr>\n",
       "      <th>Inflight entertainment</th>\n",
       "      <td>0.085699</td>\n",
       "      <td>0.122672</td>\n",
       "      <td>1.000000</td>\n",
       "      <td>0.243023</td>\n",
       "      <td>0.801771</td>\n",
       "      <td>-0.022019</td>\n",
       "      <td>-0.025935</td>\n",
       "      <td>0.008168</td>\n",
       "      <td>-0.142166</td>\n",
       "      <td>-0.060600</td>\n",
       "      <td>0.134239</td>\n",
       "      <td>-0.122871</td>\n",
       "      <td>-0.022302</td>\n",
       "      <td>0.284588</td>\n",
       "    </tr>\n",
       "    <tr>\n",
       "      <th>Baggage handling</th>\n",
       "      <td>-0.041478</td>\n",
       "      <td>0.050866</td>\n",
       "      <td>0.243023</td>\n",
       "      <td>1.000000</td>\n",
       "      <td>0.063456</td>\n",
       "      <td>-0.014171</td>\n",
       "      <td>-0.017592</td>\n",
       "      <td>0.029714</td>\n",
       "      <td>0.025060</td>\n",
       "      <td>-0.023360</td>\n",
       "      <td>0.239778</td>\n",
       "      <td>-0.205910</td>\n",
       "      <td>-0.068553</td>\n",
       "      <td>0.221670</td>\n",
       "    </tr>\n",
       "    <tr>\n",
       "      <th>Cleanliness</th>\n",
       "      <td>0.059007</td>\n",
       "      <td>0.084198</td>\n",
       "      <td>0.801771</td>\n",
       "      <td>0.063456</td>\n",
       "      <td>1.000000</td>\n",
       "      <td>-0.002104</td>\n",
       "      <td>-0.003055</td>\n",
       "      <td>0.007906</td>\n",
       "      <td>-0.104697</td>\n",
       "      <td>-0.024641</td>\n",
       "      <td>0.093279</td>\n",
       "      <td>-0.085362</td>\n",
       "      <td>-0.015534</td>\n",
       "      <td>0.216736</td>\n",
       "    </tr>\n",
       "    <tr>\n",
       "      <th>Departure Delay in Minutes</th>\n",
       "      <td>-0.008901</td>\n",
       "      <td>-0.002914</td>\n",
       "      <td>-0.022019</td>\n",
       "      <td>-0.014171</td>\n",
       "      <td>-0.002104</td>\n",
       "      <td>1.000000</td>\n",
       "      <td>0.964882</td>\n",
       "      <td>0.004258</td>\n",
       "      <td>0.003245</td>\n",
       "      <td>-0.009391</td>\n",
       "      <td>-0.018802</td>\n",
       "      <td>0.016453</td>\n",
       "      <td>0.004727</td>\n",
       "      <td>-0.045065</td>\n",
       "    </tr>\n",
       "    <tr>\n",
       "      <th>Arrival Delay in Minutes</th>\n",
       "      <td>-0.011178</td>\n",
       "      <td>-0.007440</td>\n",
       "      <td>-0.025935</td>\n",
       "      <td>-0.017592</td>\n",
       "      <td>-0.003055</td>\n",
       "      <td>0.964882</td>\n",
       "      <td>1.000000</td>\n",
       "      <td>0.002464</td>\n",
       "      <td>0.003424</td>\n",
       "      <td>-0.009228</td>\n",
       "      <td>-0.023700</td>\n",
       "      <td>0.019830</td>\n",
       "      <td>0.007882</td>\n",
       "      <td>-0.051941</td>\n",
       "    </tr>\n",
       "    <tr>\n",
       "      <th>Gender_Male</th>\n",
       "      <td>0.018786</td>\n",
       "      <td>0.005856</td>\n",
       "      <td>0.008168</td>\n",
       "      <td>0.029714</td>\n",
       "      <td>0.007906</td>\n",
       "      <td>0.004258</td>\n",
       "      <td>0.002464</td>\n",
       "      <td>1.000000</td>\n",
       "      <td>-0.038940</td>\n",
       "      <td>0.017592</td>\n",
       "      <td>0.020311</td>\n",
       "      <td>-0.003457</td>\n",
       "      <td>-0.035418</td>\n",
       "      <td>0.020456</td>\n",
       "    </tr>\n",
       "    <tr>\n",
       "      <th>Customer Type_disloyal Customer</th>\n",
       "      <td>-0.378008</td>\n",
       "      <td>-0.328845</td>\n",
       "      <td>-0.142166</td>\n",
       "      <td>0.025060</td>\n",
       "      <td>-0.104697</td>\n",
       "      <td>0.003245</td>\n",
       "      <td>0.003424</td>\n",
       "      <td>-0.038940</td>\n",
       "      <td>1.000000</td>\n",
       "      <td>-0.463119</td>\n",
       "      <td>-0.110725</td>\n",
       "      <td>0.151956</td>\n",
       "      <td>-0.088760</td>\n",
       "      <td>-0.248374</td>\n",
       "    </tr>\n",
       "    <tr>\n",
       "      <th>Type of Travel_Personal Travel</th>\n",
       "      <td>0.077997</td>\n",
       "      <td>-0.129902</td>\n",
       "      <td>-0.060600</td>\n",
       "      <td>-0.023360</td>\n",
       "      <td>-0.024641</td>\n",
       "      <td>-0.009391</td>\n",
       "      <td>-0.009228</td>\n",
       "      <td>0.017592</td>\n",
       "      <td>-0.463119</td>\n",
       "      <td>1.000000</td>\n",
       "      <td>-0.379310</td>\n",
       "      <td>0.327499</td>\n",
       "      <td>0.104708</td>\n",
       "      <td>-0.271964</td>\n",
       "    </tr>\n",
       "    <tr>\n",
       "      <th>Class_Business</th>\n",
       "      <td>0.169248</td>\n",
       "      <td>0.379142</td>\n",
       "      <td>0.134239</td>\n",
       "      <td>0.239778</td>\n",
       "      <td>0.093279</td>\n",
       "      <td>-0.018802</td>\n",
       "      <td>-0.023700</td>\n",
       "      <td>0.020311</td>\n",
       "      <td>-0.110725</td>\n",
       "      <td>-0.379310</td>\n",
       "      <td>1.000000</td>\n",
       "      <td>-0.887797</td>\n",
       "      <td>-0.224406</td>\n",
       "      <td>0.441388</td>\n",
       "    </tr>\n",
       "    <tr>\n",
       "      <th>Class_Eco</th>\n",
       "      <td>-0.176996</td>\n",
       "      <td>-0.338308</td>\n",
       "      <td>-0.122871</td>\n",
       "      <td>-0.205910</td>\n",
       "      <td>-0.085362</td>\n",
       "      <td>0.016453</td>\n",
       "      <td>0.019830</td>\n",
       "      <td>-0.003457</td>\n",
       "      <td>0.151956</td>\n",
       "      <td>0.327499</td>\n",
       "      <td>-0.887797</td>\n",
       "      <td>1.000000</td>\n",
       "      <td>-0.249270</td>\n",
       "      <td>-0.401075</td>\n",
       "    </tr>\n",
       "    <tr>\n",
       "      <th>Class_Eco Plus</th>\n",
       "      <td>0.018635</td>\n",
       "      <td>-0.081468</td>\n",
       "      <td>-0.022302</td>\n",
       "      <td>-0.068553</td>\n",
       "      <td>-0.015534</td>\n",
       "      <td>0.004727</td>\n",
       "      <td>0.007882</td>\n",
       "      <td>-0.035418</td>\n",
       "      <td>-0.088760</td>\n",
       "      <td>0.104708</td>\n",
       "      <td>-0.224406</td>\n",
       "      <td>-0.249270</td>\n",
       "      <td>1.000000</td>\n",
       "      <td>-0.079546</td>\n",
       "    </tr>\n",
       "    <tr>\n",
       "      <th>satisfaction_satisfied</th>\n",
       "      <td>0.126743</td>\n",
       "      <td>0.278473</td>\n",
       "      <td>0.284588</td>\n",
       "      <td>0.221670</td>\n",
       "      <td>0.216736</td>\n",
       "      <td>-0.045065</td>\n",
       "      <td>-0.051941</td>\n",
       "      <td>0.020456</td>\n",
       "      <td>-0.248374</td>\n",
       "      <td>-0.271964</td>\n",
       "      <td>0.441388</td>\n",
       "      <td>-0.401075</td>\n",
       "      <td>-0.079546</td>\n",
       "      <td>1.000000</td>\n",
       "    </tr>\n",
       "  </tbody>\n",
       "</table>\n",
       "</div>"
      ],
      "text/plain": [
       "                                      Age  Flight Distance  \\\n",
       "Age                              1.000000         0.137097   \n",
       "Flight Distance                  0.137097         1.000000   \n",
       "Inflight entertainment           0.085699         0.122672   \n",
       "Baggage handling                -0.041478         0.050866   \n",
       "Cleanliness                      0.059007         0.084198   \n",
       "Departure Delay in Minutes      -0.008901        -0.002914   \n",
       "Arrival Delay in Minutes        -0.011178        -0.007440   \n",
       "Gender_Male                      0.018786         0.005856   \n",
       "Customer Type_disloyal Customer -0.378008        -0.328845   \n",
       "Type of Travel_Personal Travel   0.077997        -0.129902   \n",
       "Class_Business                   0.169248         0.379142   \n",
       "Class_Eco                       -0.176996        -0.338308   \n",
       "Class_Eco Plus                   0.018635        -0.081468   \n",
       "satisfaction_satisfied           0.126743         0.278473   \n",
       "\n",
       "                                 Inflight entertainment  Baggage handling  \\\n",
       "Age                                            0.085699         -0.041478   \n",
       "Flight Distance                                0.122672          0.050866   \n",
       "Inflight entertainment                         1.000000          0.243023   \n",
       "Baggage handling                               0.243023          1.000000   \n",
       "Cleanliness                                    0.801771          0.063456   \n",
       "Departure Delay in Minutes                    -0.022019         -0.014171   \n",
       "Arrival Delay in Minutes                      -0.025935         -0.017592   \n",
       "Gender_Male                                    0.008168          0.029714   \n",
       "Customer Type_disloyal Customer               -0.142166          0.025060   \n",
       "Type of Travel_Personal Travel                -0.060600         -0.023360   \n",
       "Class_Business                                 0.134239          0.239778   \n",
       "Class_Eco                                     -0.122871         -0.205910   \n",
       "Class_Eco Plus                                -0.022302         -0.068553   \n",
       "satisfaction_satisfied                         0.284588          0.221670   \n",
       "\n",
       "                                 Cleanliness  Departure Delay in Minutes  \\\n",
       "Age                                 0.059007                   -0.008901   \n",
       "Flight Distance                     0.084198                   -0.002914   \n",
       "Inflight entertainment              0.801771                   -0.022019   \n",
       "Baggage handling                    0.063456                   -0.014171   \n",
       "Cleanliness                         1.000000                   -0.002104   \n",
       "Departure Delay in Minutes         -0.002104                    1.000000   \n",
       "Arrival Delay in Minutes           -0.003055                    0.964882   \n",
       "Gender_Male                         0.007906                    0.004258   \n",
       "Customer Type_disloyal Customer    -0.104697                    0.003245   \n",
       "Type of Travel_Personal Travel     -0.024641                   -0.009391   \n",
       "Class_Business                      0.093279                   -0.018802   \n",
       "Class_Eco                          -0.085362                    0.016453   \n",
       "Class_Eco Plus                     -0.015534                    0.004727   \n",
       "satisfaction_satisfied              0.216736                   -0.045065   \n",
       "\n",
       "                                 Arrival Delay in Minutes  Gender_Male  \\\n",
       "Age                                             -0.011178     0.018786   \n",
       "Flight Distance                                 -0.007440     0.005856   \n",
       "Inflight entertainment                          -0.025935     0.008168   \n",
       "Baggage handling                                -0.017592     0.029714   \n",
       "Cleanliness                                     -0.003055     0.007906   \n",
       "Departure Delay in Minutes                       0.964882     0.004258   \n",
       "Arrival Delay in Minutes                         1.000000     0.002464   \n",
       "Gender_Male                                      0.002464     1.000000   \n",
       "Customer Type_disloyal Customer                  0.003424    -0.038940   \n",
       "Type of Travel_Personal Travel                  -0.009228     0.017592   \n",
       "Class_Business                                  -0.023700     0.020311   \n",
       "Class_Eco                                        0.019830    -0.003457   \n",
       "Class_Eco Plus                                   0.007882    -0.035418   \n",
       "satisfaction_satisfied                          -0.051941     0.020456   \n",
       "\n",
       "                                 Customer Type_disloyal Customer  \\\n",
       "Age                                                    -0.378008   \n",
       "Flight Distance                                        -0.328845   \n",
       "Inflight entertainment                                 -0.142166   \n",
       "Baggage handling                                        0.025060   \n",
       "Cleanliness                                            -0.104697   \n",
       "Departure Delay in Minutes                              0.003245   \n",
       "Arrival Delay in Minutes                                0.003424   \n",
       "Gender_Male                                            -0.038940   \n",
       "Customer Type_disloyal Customer                         1.000000   \n",
       "Type of Travel_Personal Travel                         -0.463119   \n",
       "Class_Business                                         -0.110725   \n",
       "Class_Eco                                               0.151956   \n",
       "Class_Eco Plus                                         -0.088760   \n",
       "satisfaction_satisfied                                 -0.248374   \n",
       "\n",
       "                                 Type of Travel_Personal Travel  \\\n",
       "Age                                                    0.077997   \n",
       "Flight Distance                                       -0.129902   \n",
       "Inflight entertainment                                -0.060600   \n",
       "Baggage handling                                      -0.023360   \n",
       "Cleanliness                                           -0.024641   \n",
       "Departure Delay in Minutes                            -0.009391   \n",
       "Arrival Delay in Minutes                              -0.009228   \n",
       "Gender_Male                                            0.017592   \n",
       "Customer Type_disloyal Customer                       -0.463119   \n",
       "Type of Travel_Personal Travel                         1.000000   \n",
       "Class_Business                                        -0.379310   \n",
       "Class_Eco                                              0.327499   \n",
       "Class_Eco Plus                                         0.104708   \n",
       "satisfaction_satisfied                                -0.271964   \n",
       "\n",
       "                                 Class_Business  Class_Eco  Class_Eco Plus  \\\n",
       "Age                                    0.169248  -0.176996        0.018635   \n",
       "Flight Distance                        0.379142  -0.338308       -0.081468   \n",
       "Inflight entertainment                 0.134239  -0.122871       -0.022302   \n",
       "Baggage handling                       0.239778  -0.205910       -0.068553   \n",
       "Cleanliness                            0.093279  -0.085362       -0.015534   \n",
       "Departure Delay in Minutes            -0.018802   0.016453        0.004727   \n",
       "Arrival Delay in Minutes              -0.023700   0.019830        0.007882   \n",
       "Gender_Male                            0.020311  -0.003457       -0.035418   \n",
       "Customer Type_disloyal Customer       -0.110725   0.151956       -0.088760   \n",
       "Type of Travel_Personal Travel        -0.379310   0.327499        0.104708   \n",
       "Class_Business                         1.000000  -0.887797       -0.224406   \n",
       "Class_Eco                             -0.887797   1.000000       -0.249270   \n",
       "Class_Eco Plus                        -0.224406  -0.249270        1.000000   \n",
       "satisfaction_satisfied                 0.441388  -0.401075       -0.079546   \n",
       "\n",
       "                                 satisfaction_satisfied  \n",
       "Age                                            0.126743  \n",
       "Flight Distance                                0.278473  \n",
       "Inflight entertainment                         0.284588  \n",
       "Baggage handling                               0.221670  \n",
       "Cleanliness                                    0.216736  \n",
       "Departure Delay in Minutes                    -0.045065  \n",
       "Arrival Delay in Minutes                      -0.051941  \n",
       "Gender_Male                                    0.020456  \n",
       "Customer Type_disloyal Customer               -0.248374  \n",
       "Type of Travel_Personal Travel                -0.271964  \n",
       "Class_Business                                 0.441388  \n",
       "Class_Eco                                     -0.401075  \n",
       "Class_Eco Plus                                -0.079546  \n",
       "satisfaction_satisfied                         1.000000  "
      ]
     },
     "execution_count": 124,
     "metadata": {},
     "output_type": "execute_result"
    }
   ],
   "source": [
    "matrix=final_df.corr()\n",
    "matrix"
   ]
  },
  {
   "cell_type": "code",
   "execution_count": 125,
   "id": "55bf40ed",
   "metadata": {},
   "outputs": [
    {
     "data": {
      "text/plain": [
       "<Axes: >"
      ]
     },
     "execution_count": 125,
     "metadata": {},
     "output_type": "execute_result"
    },
    {
     "data": {
      "image/png": "[encoded data removed]",
      "text/plain": [
       "<Figure size 640x480 with 2 Axes>"
      ]
     },
     "metadata": {},
     "output_type": "display_data"
    }
   ],
   "source": [
    "sns.heatmap(matrix,annot=True,cmap=\"coolwarm\")\n"
   ]
  },
  {
   "cell_type": "code",
   "execution_count": 126,
   "id": "fd3a5025",
   "metadata": {},
   "outputs": [],
   "source": [
    "x=final_df.drop(\"satisfaction_satisfied\",axis=1)\n",
    "y=final_df[\"satisfaction_satisfied\"]"
   ]
  },
  {
   "cell_type": "code",
   "execution_count": 127,
   "id": "b591ad0f",
   "metadata": {},
   "outputs": [],
   "source": [
    "from sklearn.model_selection import train_test_split\n",
    "x_train,x_test,y_train,y_test=train_test_split(x,y,test_size=0.2,random_state=42)"
   ]
  },
  {
   "cell_type": "code",
   "execution_count": 128,
   "id": "9c16f1fa",
   "metadata": {},
   "outputs": [],
   "source": [
    "# deep learning\n",
    "# Standard Scalar\n",
    "from sklearn.preprocessing import StandardScaler\n",
    "sc=StandardScaler()\n",
    "x_train_transform=sc.fit_transform(x_train)\n",
    "x_test_transform=sc.transform(x_test)\n"
   ]
  },
  {
   "cell_type": "code",
   "execution_count": 129,
   "id": "d1fb63a5",
   "metadata": {},
   "outputs": [],
   "source": [
    "# define your ann model\n",
    "from tensorflow.keras.models import Sequential\n",
    "from tensorflow.keras.layers import Dense"
   ]
  },
  {
   "cell_type": "code",
   "execution_count": 130,
   "id": "ff0f5514",
   "metadata": {},
   "outputs": [
    {
     "data": {
      "text/plain": [
       "(31124, 13)"
      ]
     },
     "execution_count": 130,
     "metadata": {},
     "output_type": "execute_result"
    }
   ],
   "source": [
    "x_train.shape"
   ]
  },
  {
   "cell_type": "code",
   "execution_count": 131,
   "id": "6bd6a2a5",
   "metadata": {},
   "outputs": [
    {
     "name": "stderr",
     "output_type": "stream",
     "text": [
      "c:\\Users\\dell\\AppData\\Local\\Programs\\Python\\Python311\\Lib\\site-packages\\keras\\src\\layers\\core\\dense.py:93: UserWarning: Do not pass an `input_shape`/`input_dim` argument to a layer. When using Sequential models, prefer using an `Input(shape)` object as the first layer in the model instead.\n",
      "  super().__init__(activity_regularizer=activity_regularizer, **kwargs)\n"
     ]
    },
    {
     "data": {
      "text/html": [
       "<pre style=\"white-space:pre;overflow-x:auto;line-height:normal;font-family:Menlo,'DejaVu Sans Mono',consolas,'Courier New',monospace\"><span style=\"font-weight: bold\">Model: \"sequential_4\"</span>\n",
       "</pre>\n"
      ],
      "text/plain": [
       "\u001b[1mModel: \"sequential_4\"\u001b[0m\n"
      ]
     },
     "metadata": {},
     "output_type": "display_data"
    },
    {
     "data": {
      "text/html": [
       "<pre style=\"white-space:pre;overflow-x:auto;line-height:normal;font-family:Menlo,'DejaVu Sans Mono',consolas,'Courier New',monospace\">┏━━━━━━━━━━━━━━━━━━━━━━━━━━━━━━━━━┳━━━━━━━━━━━━━━━━━━━━━━━━┳━━━━━━━━━━━━━━━┓\n",
       "┃<span style=\"font-weight: bold\"> Layer (type)                    </span>┃<span style=\"font-weight: bold\"> Output Shape           </span>┃<span style=\"font-weight: bold\">       Param # </span>┃\n",
       "┡━━━━━━━━━━━━━━━━━━━━━━━━━━━━━━━━━╇━━━━━━━━━━━━━━━━━━━━━━━━╇━━━━━━━━━━━━━━━┩\n",
       "│ dense_16 (<span style=\"color: #0087ff; text-decoration-color: #0087ff\">Dense</span>)                │ (<span style=\"color: #00d7ff; text-decoration-color: #00d7ff\">None</span>, <span style=\"color: #00af00; text-decoration-color: #00af00\">68</span>)             │           <span style=\"color: #00af00; text-decoration-color: #00af00\">952</span> │\n",
       "├─────────────────────────────────┼────────────────────────┼───────────────┤\n",
       "│ dense_17 (<span style=\"color: #0087ff; text-decoration-color: #0087ff\">Dense</span>)                │ (<span style=\"color: #00d7ff; text-decoration-color: #00d7ff\">None</span>, <span style=\"color: #00af00; text-decoration-color: #00af00\">32</span>)             │         <span style=\"color: #00af00; text-decoration-color: #00af00\">2,208</span> │\n",
       "├─────────────────────────────────┼────────────────────────┼───────────────┤\n",
       "│ dense_18 (<span style=\"color: #0087ff; text-decoration-color: #0087ff\">Dense</span>)                │ (<span style=\"color: #00d7ff; text-decoration-color: #00d7ff\">None</span>, <span style=\"color: #00af00; text-decoration-color: #00af00\">24</span>)             │           <span style=\"color: #00af00; text-decoration-color: #00af00\">792</span> │\n",
       "├─────────────────────────────────┼────────────────────────┼───────────────┤\n",
       "│ dense_19 (<span style=\"color: #0087ff; text-decoration-color: #0087ff\">Dense</span>)                │ (<span style=\"color: #00d7ff; text-decoration-color: #00d7ff\">None</span>, <span style=\"color: #00af00; text-decoration-color: #00af00\">12</span>)             │           <span style=\"color: #00af00; text-decoration-color: #00af00\">300</span> │\n",
       "├─────────────────────────────────┼────────────────────────┼───────────────┤\n",
       "│ dense_20 (<span style=\"color: #0087ff; text-decoration-color: #0087ff\">Dense</span>)                │ (<span style=\"color: #00d7ff; text-decoration-color: #00d7ff\">None</span>, <span style=\"color: #00af00; text-decoration-color: #00af00\">1</span>)              │            <span style=\"color: #00af00; text-decoration-color: #00af00\">13</span> │\n",
       "└─────────────────────────────────┴────────────────────────┴───────────────┘\n",
       "</pre>\n"
      ],
      "text/plain": [
       "┏━━━━━━━━━━━━━━━━━━━━━━━━━━━━━━━━━┳━━━━━━━━━━━━━━━━━━━━━━━━┳━━━━━━━━━━━━━━━┓\n",
       "┃\u001b[1m \u001b[0m\u001b[1mLayer (type)                   \u001b[0m\u001b[1m \u001b[0m┃\u001b[1m \u001b[0m\u001b[1mOutput Shape          \u001b[0m\u001b[1m \u001b[0m┃\u001b[1m \u001b[0m\u001b[1m      Param #\u001b[0m\u001b[1m \u001b[0m┃\n",
       "┡━━━━━━━━━━━━━━━━━━━━━━━━━━━━━━━━━╇━━━━━━━━━━━━━━━━━━━━━━━━╇━━━━━━━━━━━━━━━┩\n",
       "│ dense_16 (\u001b[38;5;33mDense\u001b[0m)                │ (\u001b[38;5;45mNone\u001b[0m, \u001b[38;5;34m68\u001b[0m)             │           \u001b[38;5;34m952\u001b[0m │\n",
       "├─────────────────────────────────┼────────────────────────┼───────────────┤\n",
       "│ dense_17 (\u001b[38;5;33mDense\u001b[0m)                │ (\u001b[38;5;45mNone\u001b[0m, \u001b[38;5;34m32\u001b[0m)             │         \u001b[38;5;34m2,208\u001b[0m │\n",
       "├─────────────────────────────────┼────────────────────────┼───────────────┤\n",
       "│ dense_18 (\u001b[38;5;33mDense\u001b[0m)                │ (\u001b[38;5;45mNone\u001b[0m, \u001b[38;5;34m24\u001b[0m)             │           \u001b[38;5;34m792\u001b[0m │\n",
       "├─────────────────────────────────┼────────────────────────┼───────────────┤\n",
       "│ dense_19 (\u001b[38;5;33mDense\u001b[0m)                │ (\u001b[38;5;45mNone\u001b[0m, \u001b[38;5;34m12\u001b[0m)             │           \u001b[38;5;34m300\u001b[0m │\n",
       "├─────────────────────────────────┼────────────────────────┼───────────────┤\n",
       "│ dense_20 (\u001b[38;5;33mDense\u001b[0m)                │ (\u001b[38;5;45mNone\u001b[0m, \u001b[38;5;34m1\u001b[0m)              │            \u001b[38;5;34m13\u001b[0m │\n",
       "└─────────────────────────────────┴────────────────────────┴───────────────┘\n"
      ]
     },
     "metadata": {},
     "output_type": "display_data"
    },
    {
     "data": {
      "text/html": [
       "<pre style=\"white-space:pre;overflow-x:auto;line-height:normal;font-family:Menlo,'DejaVu Sans Mono',consolas,'Courier New',monospace\"><span style=\"font-weight: bold\"> Total params: </span><span style=\"color: #00af00; text-decoration-color: #00af00\">4,265</span> (16.66 KB)\n",
       "</pre>\n"
      ],
      "text/plain": [
       "\u001b[1m Total params: \u001b[0m\u001b[38;5;34m4,265\u001b[0m (16.66 KB)\n"
      ]
     },
     "metadata": {},
     "output_type": "display_data"
    },
    {
     "data": {
      "text/html": [
       "<pre style=\"white-space:pre;overflow-x:auto;line-height:normal;font-family:Menlo,'DejaVu Sans Mono',consolas,'Courier New',monospace\"><span style=\"font-weight: bold\"> Trainable params: </span><span style=\"color: #00af00; text-decoration-color: #00af00\">4,265</span> (16.66 KB)\n",
       "</pre>\n"
      ],
      "text/plain": [
       "\u001b[1m Trainable params: \u001b[0m\u001b[38;5;34m4,265\u001b[0m (16.66 KB)\n"
      ]
     },
     "metadata": {},
     "output_type": "display_data"
    },
    {
     "data": {
      "text/html": [
       "<pre style=\"white-space:pre;overflow-x:auto;line-height:normal;font-family:Menlo,'DejaVu Sans Mono',consolas,'Courier New',monospace\"><span style=\"font-weight: bold\"> Non-trainable params: </span><span style=\"color: #00af00; text-decoration-color: #00af00\">0</span> (0.00 B)\n",
       "</pre>\n"
      ],
      "text/plain": [
       "\u001b[1m Non-trainable params: \u001b[0m\u001b[38;5;34m0\u001b[0m (0.00 B)\n"
      ]
     },
     "metadata": {},
     "output_type": "display_data"
    }
   ],
   "source": [
    "#initialising Sequential\n",
    "model=Sequential()\n",
    "# Initialize the model\n",
    "# Input layer + first hidden layer\n",
    "#model.add(Dense(    -->no of neurons -> activation -->input dimension ))\n",
    "\n",
    "model.add(Dense(68, activation=\"relu\", input_dim=x_train_transform.shape[1]))\n",
    "\n",
    "# Hidden layers\n",
    "model.add(Dense(32, activation=\"relu\"))\n",
    "model.add(Dense(24, activation=\"relu\"))\n",
    "model.add(Dense(12, activation=\"relu\"))\n",
    "\n",
    "# Output layer\n",
    "model.add(Dense(1, activation=\"sigmoid\"))\n",
    "\n",
    "# Compile the model\n",
    "model.compile(optimizer=\"adam\", loss=\"binary_crossentropy\", metrics=[\"accuracy\"])\n",
    "\n",
    "# Display model summary\n",
    "model.summary()\n"
   ]
  },
  {
   "cell_type": "code",
   "execution_count": 132,
   "id": "cbcad4fe",
   "metadata": {},
   "outputs": [
    {
     "data": {
      "text/plain": [
       "4265"
      ]
     },
     "execution_count": 132,
     "metadata": {},
     "output_type": "execute_result"
    }
   ],
   "source": [
    "# Total params: 4,265 (16.66 KB) this means a particular layer has 4,265 parameters that are need to be train\n",
    "#these are calculated by formula (n_in + 1) * n_out here, n is the number of inputs\n",
    "#e.g\n",
    "((13+1)*68)+(68+1)*32+(32+1)*24+(24+1)*12+(12+1)*1\n"
   ]
  },
  {
   "cell_type": "code",
   "execution_count": 133,
   "id": "03ec0b51",
   "metadata": {},
   "outputs": [
    {
     "name": "stdout",
     "output_type": "stream",
     "text": [
      "Epoch 1/10\n",
      "\u001b[1m973/973\u001b[0m \u001b[32m━━━━━━━━━━━━━━━━━━━━\u001b[0m\u001b[37m\u001b[0m \u001b[1m2s\u001b[0m 2ms/step - accuracy: 0.7731 - loss: 0.4678 - val_accuracy: 0.8351 - val_loss: 0.3904\n",
      "Epoch 2/10\n",
      "\u001b[1m973/973\u001b[0m \u001b[32m━━━━━━━━━━━━━━━━━━━━\u001b[0m\u001b[37m\u001b[0m \u001b[1m2s\u001b[0m 2ms/step - accuracy: 0.8431 - loss: 0.3749 - val_accuracy: 0.8413 - val_loss: 0.3717\n",
      "Epoch 3/10\n",
      "\u001b[1m973/973\u001b[0m \u001b[32m━━━━━━━━━━━━━━━━━━━━\u001b[0m\u001b[37m\u001b[0m \u001b[1m2s\u001b[0m 2ms/step - accuracy: 0.8498 - loss: 0.3589 - val_accuracy: 0.8439 - val_loss: 0.3752\n",
      "Epoch 4/10\n",
      "\u001b[1m973/973\u001b[0m \u001b[32m━━━━━━━━━━━━━━━━━━━━\u001b[0m\u001b[37m\u001b[0m \u001b[1m2s\u001b[0m 2ms/step - accuracy: 0.8531 - loss: 0.3558 - val_accuracy: 0.8496 - val_loss: 0.3671\n",
      "Epoch 5/10\n",
      "\u001b[1m973/973\u001b[0m \u001b[32m━━━━━━━━━━━━━━━━━━━━\u001b[0m\u001b[37m\u001b[0m \u001b[1m2s\u001b[0m 2ms/step - accuracy: 0.8559 - loss: 0.3469 - val_accuracy: 0.8514 - val_loss: 0.3583\n",
      "Epoch 6/10\n",
      "\u001b[1m973/973\u001b[0m \u001b[32m━━━━━━━━━━━━━━━━━━━━\u001b[0m\u001b[37m\u001b[0m \u001b[1m2s\u001b[0m 2ms/step - accuracy: 0.8529 - loss: 0.3471 - val_accuracy: 0.8508 - val_loss: 0.3533\n",
      "Epoch 7/10\n",
      "\u001b[1m973/973\u001b[0m \u001b[32m━━━━━━━━━━━━━━━━━━━━\u001b[0m\u001b[37m\u001b[0m \u001b[1m2s\u001b[0m 2ms/step - accuracy: 0.8539 - loss: 0.3486 - val_accuracy: 0.8498 - val_loss: 0.3562\n",
      "Epoch 8/10\n",
      "\u001b[1m973/973\u001b[0m \u001b[32m━━━━━━━━━━━━━━━━━━━━\u001b[0m\u001b[37m\u001b[0m \u001b[1m1s\u001b[0m 1ms/step - accuracy: 0.8533 - loss: 0.3478 - val_accuracy: 0.8550 - val_loss: 0.3528\n",
      "Epoch 9/10\n",
      "\u001b[1m973/973\u001b[0m \u001b[32m━━━━━━━━━━━━━━━━━━━━\u001b[0m\u001b[37m\u001b[0m \u001b[1m2s\u001b[0m 2ms/step - accuracy: 0.8512 - loss: 0.3473 - val_accuracy: 0.8526 - val_loss: 0.3522\n",
      "Epoch 10/10\n",
      "\u001b[1m973/973\u001b[0m \u001b[32m━━━━━━━━━━━━━━━━━━━━\u001b[0m\u001b[37m\u001b[0m \u001b[1m2s\u001b[0m 2ms/step - accuracy: 0.8528 - loss: 0.3414 - val_accuracy: 0.8513 - val_loss: 0.3553\n"
     ]
    }
   ],
   "source": [
    "history=model.fit(x_train_transform,\n",
    "                  y_train,\n",
    "                  epochs=10,\n",
    "                  validation_data=(x_test_transform,y_test),\n",
    "                  )"
   ]
  },
  {
   "cell_type": "code",
   "execution_count": 134,
   "id": "000c884e",
   "metadata": {},
   "outputs": [
    {
     "name": "stdout",
     "output_type": "stream",
     "text": [
      "\u001b[1m244/244\u001b[0m \u001b[32m━━━━━━━━━━━━━━━━━━━━\u001b[0m\u001b[37m\u001b[0m \u001b[1m0s\u001b[0m 1ms/step\n"
     ]
    },
    {
     "data": {
      "text/plain": [
       "array([1, 0, 0, ..., 0, 0, 0])"
      ]
     },
     "execution_count": 134,
     "metadata": {},
     "output_type": "execute_result"
    }
   ],
   "source": [
    "## prediction\n",
    "y_pred=model.predict(x_test_transform)\n",
    "prediction_label=(y_pred>0.5).astype(int).ravel()\n",
    "prediction_label"
   ]
  },
  {
   "cell_type": "code",
   "execution_count": 137,
   "id": "4b1c3a7d",
   "metadata": {},
   "outputs": [],
   "source": [
    "# to save model\n",
    "model.save(\"logistic_model.keras\")"
   ]
  },
  {
   "cell_type": "code",
   "execution_count": 138,
   "id": "b469ac86",
   "metadata": {},
   "outputs": [
    {
     "name": "stderr",
     "output_type": "stream",
     "text": [
      "c:\\Users\\dell\\AppData\\Local\\Programs\\Python\\Python311\\Lib\\site-packages\\keras\\src\\saving\\saving_lib.py:802: UserWarning: Skipping variable loading for optimizer 'adam', because it has 22 variables whereas the saved optimizer has 2 variables. \n",
      "  saveable.load_own_variables(weights_store.get(inner_path))\n"
     ]
    }
   ],
   "source": [
    "# to load model\n",
    "from tensorflow.keras.models import load_model\n",
    "model=load_model(\"logistic_model.keras\")"
   ]
  },
  {
   "cell_type": "code",
   "execution_count": null,
   "id": "6e4043e6",
   "metadata": {},
   "outputs": [],
   "source": []
  }
 ],
 "metadata": {
  "kernelspec": {
   "display_name": "Python 3",
   "language": "python",
   "name": "python3"
  },
  "language_info": {
   "codemirror_mode": {
    "name": "ipython",
    "version": 3
   },
   "file_extension": ".py",
   "mimetype": "text/x-python",
   "name": "python",
   "nbconvert_exporter": "python",
   "pygments_lexer": "ipython3",
   "version": "3.11.9"
  }
 },
 "nbformat": 4,
 "nbformat_minor": 5
}
