{
 "cells": [
  {
   "cell_type": "markdown",
   "id": "aecf6011",
   "metadata": {},
   "source": [
    "## ```logistic Regression```"
   ]
  },
  {
   "cell_type": "markdown",
   "id": "5ecccbd5",
   "metadata": {},
   "source": [
    "#### this is used for classification of data in one form e.g. win/loss, etc.\n",
    "#### this used for probability.\n",
    "#### it's outcome is binary."
   ]
  },
  {
   "cell_type": "code",
   "execution_count": 172,
   "id": "c7a90424",
   "metadata": {},
   "outputs": [],
   "source": [
    "import numpy as np\n",
    "import pandas as pd\n",
    "import matplotlib.pyplot as plt\n",
    "import seaborn as sns\n"
   ]
  },
  {
   "cell_type": "code",
   "execution_count": 173,
   "id": "6af0f21d",
   "metadata": {},
   "outputs": [
    {
     "name": "stdout",
     "output_type": "stream",
     "text": [
      "<class 'pandas.core.frame.DataFrame'>\n",
      "RangeIndex: 103904 entries, 0 to 103903\n",
      "Data columns (total 12 columns):\n",
      " #   Column                      Non-Null Count   Dtype  \n",
      "---  ------                      --------------   -----  \n",
      " 0   Gender                      103904 non-null  object \n",
      " 1   Customer Type               103904 non-null  object \n",
      " 2   Type of Travel              103904 non-null  object \n",
      " 3   Class                       103904 non-null  object \n",
      " 4   satisfaction                103904 non-null  object \n",
      " 5   Age                         103904 non-null  int64  \n",
      " 6   Flight Distance             103904 non-null  int64  \n",
      " 7   Inflight entertainment      103904 non-null  int64  \n",
      " 8   Baggage handling            103904 non-null  int64  \n",
      " 9   Cleanliness                 103904 non-null  int64  \n",
      " 10  Departure Delay in Minutes  103904 non-null  int64  \n",
      " 11  Arrival Delay in Minutes    103594 non-null  float64\n",
      "dtypes: float64(1), int64(6), object(5)\n",
      "memory usage: 9.5+ MB\n"
     ]
    },
    {
     "data": {
      "text/html": [
       "<div>\n",
       "<style scoped>\n",
       "    .dataframe tbody tr th:only-of-type {\n",
       "        vertical-align: middle;\n",
       "    }\n",
       "\n",
       "    .dataframe tbody tr th {\n",
       "        vertical-align: top;\n",
       "    }\n",
       "\n",
       "    .dataframe thead th {\n",
       "        text-align: right;\n",
       "    }\n",
       "</style>\n",
       "<table border=\"1\" class=\"dataframe\">\n",
       "  <thead>\n",
       "    <tr style=\"text-align: right;\">\n",
       "      <th></th>\n",
       "      <th>Gender</th>\n",
       "      <th>Customer Type</th>\n",
       "      <th>Type of Travel</th>\n",
       "      <th>Class</th>\n",
       "      <th>satisfaction</th>\n",
       "      <th>Age</th>\n",
       "      <th>Flight Distance</th>\n",
       "      <th>Inflight entertainment</th>\n",
       "      <th>Baggage handling</th>\n",
       "      <th>Cleanliness</th>\n",
       "      <th>Departure Delay in Minutes</th>\n",
       "      <th>Arrival Delay in Minutes</th>\n",
       "    </tr>\n",
       "  </thead>\n",
       "  <tbody>\n",
       "    <tr>\n",
       "      <th>0</th>\n",
       "      <td>Male</td>\n",
       "      <td>Loyal Customer</td>\n",
       "      <td>Personal Travel</td>\n",
       "      <td>Eco Plus</td>\n",
       "      <td>neutral or dissatisfied</td>\n",
       "      <td>13</td>\n",
       "      <td>460</td>\n",
       "      <td>5</td>\n",
       "      <td>4</td>\n",
       "      <td>5</td>\n",
       "      <td>25</td>\n",
       "      <td>18.0</td>\n",
       "    </tr>\n",
       "    <tr>\n",
       "      <th>1</th>\n",
       "      <td>Male</td>\n",
       "      <td>disloyal Customer</td>\n",
       "      <td>Business travel</td>\n",
       "      <td>Business</td>\n",
       "      <td>neutral or dissatisfied</td>\n",
       "      <td>25</td>\n",
       "      <td>235</td>\n",
       "      <td>1</td>\n",
       "      <td>3</td>\n",
       "      <td>1</td>\n",
       "      <td>1</td>\n",
       "      <td>6.0</td>\n",
       "    </tr>\n",
       "    <tr>\n",
       "      <th>2</th>\n",
       "      <td>Female</td>\n",
       "      <td>Loyal Customer</td>\n",
       "      <td>Business travel</td>\n",
       "      <td>Business</td>\n",
       "      <td>satisfied</td>\n",
       "      <td>26</td>\n",
       "      <td>1142</td>\n",
       "      <td>5</td>\n",
       "      <td>4</td>\n",
       "      <td>5</td>\n",
       "      <td>0</td>\n",
       "      <td>0.0</td>\n",
       "    </tr>\n",
       "    <tr>\n",
       "      <th>3</th>\n",
       "      <td>Female</td>\n",
       "      <td>Loyal Customer</td>\n",
       "      <td>Business travel</td>\n",
       "      <td>Business</td>\n",
       "      <td>neutral or dissatisfied</td>\n",
       "      <td>25</td>\n",
       "      <td>562</td>\n",
       "      <td>2</td>\n",
       "      <td>3</td>\n",
       "      <td>2</td>\n",
       "      <td>11</td>\n",
       "      <td>9.0</td>\n",
       "    </tr>\n",
       "    <tr>\n",
       "      <th>4</th>\n",
       "      <td>Male</td>\n",
       "      <td>Loyal Customer</td>\n",
       "      <td>Business travel</td>\n",
       "      <td>Business</td>\n",
       "      <td>satisfied</td>\n",
       "      <td>61</td>\n",
       "      <td>214</td>\n",
       "      <td>3</td>\n",
       "      <td>4</td>\n",
       "      <td>3</td>\n",
       "      <td>0</td>\n",
       "      <td>0.0</td>\n",
       "    </tr>\n",
       "  </tbody>\n",
       "</table>\n",
       "</div>"
      ],
      "text/plain": [
       "   Gender      Customer Type   Type of Travel     Class  \\\n",
       "0    Male     Loyal Customer  Personal Travel  Eco Plus   \n",
       "1    Male  disloyal Customer  Business travel  Business   \n",
       "2  Female     Loyal Customer  Business travel  Business   \n",
       "3  Female     Loyal Customer  Business travel  Business   \n",
       "4    Male     Loyal Customer  Business travel  Business   \n",
       "\n",
       "              satisfaction  Age  Flight Distance  Inflight entertainment  \\\n",
       "0  neutral or dissatisfied   13              460                       5   \n",
       "1  neutral or dissatisfied   25              235                       1   \n",
       "2                satisfied   26             1142                       5   \n",
       "3  neutral or dissatisfied   25              562                       2   \n",
       "4                satisfied   61              214                       3   \n",
       "\n",
       "   Baggage handling  Cleanliness  Departure Delay in Minutes  \\\n",
       "0                 4            5                          25   \n",
       "1                 3            1                           1   \n",
       "2                 4            5                           0   \n",
       "3                 3            2                          11   \n",
       "4                 4            3                           0   \n",
       "\n",
       "   Arrival Delay in Minutes  \n",
       "0                      18.0  \n",
       "1                       6.0  \n",
       "2                       0.0  \n",
       "3                       9.0  \n",
       "4                       0.0  "
      ]
     },
     "execution_count": 173,
     "metadata": {},
     "output_type": "execute_result"
    }
   ],
   "source": [
    "df=pd.read_csv(\"cust_satisfaction.csv\")\n",
    "df.info()\n",
    "df.head()"
   ]
  },
  {
   "cell_type": "code",
   "execution_count": 174,
   "id": "fe6a969c",
   "metadata": {},
   "outputs": [
    {
     "data": {
      "text/plain": [
       "np.int64(172)"
      ]
     },
     "execution_count": 174,
     "metadata": {},
     "output_type": "execute_result"
    }
   ],
   "source": [
    "df.duplicated()\n",
    "df.duplicated().sum()"
   ]
  },
  {
   "cell_type": "code",
   "execution_count": 175,
   "id": "855f5621",
   "metadata": {},
   "outputs": [],
   "source": [
    "df.drop_duplicates(inplace=True)"
   ]
  },
  {
   "cell_type": "code",
   "execution_count": 176,
   "id": "4d3e737b",
   "metadata": {},
   "outputs": [
    {
     "data": {
      "text/plain": [
       "np.int64(0)"
      ]
     },
     "execution_count": 176,
     "metadata": {},
     "output_type": "execute_result"
    }
   ],
   "source": [
    "df.duplicated().sum()"
   ]
  },
  {
   "cell_type": "code",
   "execution_count": 177,
   "id": "da52370e",
   "metadata": {},
   "outputs": [
    {
     "data": {
      "text/plain": [
       "Gender                          0\n",
       "Customer Type                   0\n",
       "Type of Travel                  0\n",
       "Class                           0\n",
       "satisfaction                    0\n",
       "Age                             0\n",
       "Flight Distance                 0\n",
       "Inflight entertainment          0\n",
       "Baggage handling                0\n",
       "Cleanliness                     0\n",
       "Departure Delay in Minutes      0\n",
       "Arrival Delay in Minutes      310\n",
       "dtype: int64"
      ]
     },
     "execution_count": 177,
     "metadata": {},
     "output_type": "execute_result"
    }
   ],
   "source": [
    "df.isnull().sum()"
   ]
  },
  {
   "cell_type": "code",
   "execution_count": 178,
   "id": "a542241b",
   "metadata": {},
   "outputs": [
    {
     "data": {
      "text/plain": [
       "Gender                        0\n",
       "Customer Type                 0\n",
       "Type of Travel                0\n",
       "Class                         0\n",
       "satisfaction                  0\n",
       "Age                           0\n",
       "Flight Distance               0\n",
       "Inflight entertainment        0\n",
       "Baggage handling              0\n",
       "Cleanliness                   0\n",
       "Departure Delay in Minutes    0\n",
       "Arrival Delay in Minutes      0\n",
       "dtype: int64"
      ]
     },
     "execution_count": 178,
     "metadata": {},
     "output_type": "execute_result"
    }
   ],
   "source": [
    "df.dropna(inplace=True)\n",
    "df.isnull().sum()"
   ]
  },
  {
   "cell_type": "code",
   "execution_count": 179,
   "id": "dedafc47",
   "metadata": {},
   "outputs": [
    {
     "data": {
      "text/plain": [
       "Customer Type\n",
       "Loyal Customer       84517\n",
       "disloyal Customer    18905\n",
       "Name: count, dtype: int64"
      ]
     },
     "execution_count": 179,
     "metadata": {},
     "output_type": "execute_result"
    }
   ],
   "source": [
    "df['Customer Type'].value_counts()"
   ]
  },
  {
   "cell_type": "code",
   "execution_count": 180,
   "id": "cc9bb1f2",
   "metadata": {},
   "outputs": [],
   "source": [
    "loyal_customer=df[df['Customer Type']=='Loyal Customer']\n",
    "disloyal_customer=df[df['Customer Type']=='disloyal Customer']"
   ]
  },
  {
   "cell_type": "code",
   "execution_count": 181,
   "id": "43e1dd36",
   "metadata": {},
   "outputs": [
    {
     "data": {
      "text/plain": [
       "(20000, 12)"
      ]
     },
     "execution_count": 181,
     "metadata": {},
     "output_type": "execute_result"
    }
   ],
   "source": [
    "loyal_customer = loyal_customer.sample(20000)\n",
    "loyal_customer.shape"
   ]
  },
  {
   "cell_type": "code",
   "execution_count": 182,
   "id": "b2aed884",
   "metadata": {},
   "outputs": [
    {
     "data": {
      "text/plain": [
       "(38905, 12)"
      ]
     },
     "execution_count": 182,
     "metadata": {},
     "output_type": "execute_result"
    }
   ],
   "source": [
    "balance_df=pd.concat([loyal_customer,disloyal_customer],axis=0)\n",
    "balance_df.shape"
   ]
  },
  {
   "cell_type": "code",
   "execution_count": 183,
   "id": "ad7c74d0",
   "metadata": {},
   "outputs": [
    {
     "data": {
      "text/html": [
       "<div>\n",
       "<style scoped>\n",
       "    .dataframe tbody tr th:only-of-type {\n",
       "        vertical-align: middle;\n",
       "    }\n",
       "\n",
       "    .dataframe tbody tr th {\n",
       "        vertical-align: top;\n",
       "    }\n",
       "\n",
       "    .dataframe thead th {\n",
       "        text-align: right;\n",
       "    }\n",
       "</style>\n",
       "<table border=\"1\" class=\"dataframe\">\n",
       "  <thead>\n",
       "    <tr style=\"text-align: right;\">\n",
       "      <th></th>\n",
       "      <th>Gender</th>\n",
       "      <th>Customer Type</th>\n",
       "      <th>Type of Travel</th>\n",
       "      <th>Class</th>\n",
       "      <th>satisfaction</th>\n",
       "    </tr>\n",
       "  </thead>\n",
       "  <tbody>\n",
       "    <tr>\n",
       "      <th>34630</th>\n",
       "      <td>Female</td>\n",
       "      <td>Loyal Customer</td>\n",
       "      <td>Personal Travel</td>\n",
       "      <td>Eco</td>\n",
       "      <td>neutral or dissatisfied</td>\n",
       "    </tr>\n",
       "    <tr>\n",
       "      <th>17484</th>\n",
       "      <td>Male</td>\n",
       "      <td>Loyal Customer</td>\n",
       "      <td>Personal Travel</td>\n",
       "      <td>Eco</td>\n",
       "      <td>neutral or dissatisfied</td>\n",
       "    </tr>\n",
       "    <tr>\n",
       "      <th>81792</th>\n",
       "      <td>Female</td>\n",
       "      <td>Loyal Customer</td>\n",
       "      <td>Business travel</td>\n",
       "      <td>Business</td>\n",
       "      <td>satisfied</td>\n",
       "    </tr>\n",
       "    <tr>\n",
       "      <th>16551</th>\n",
       "      <td>Female</td>\n",
       "      <td>Loyal Customer</td>\n",
       "      <td>Business travel</td>\n",
       "      <td>Eco</td>\n",
       "      <td>neutral or dissatisfied</td>\n",
       "    </tr>\n",
       "    <tr>\n",
       "      <th>33666</th>\n",
       "      <td>Male</td>\n",
       "      <td>Loyal Customer</td>\n",
       "      <td>Business travel</td>\n",
       "      <td>Business</td>\n",
       "      <td>satisfied</td>\n",
       "    </tr>\n",
       "  </tbody>\n",
       "</table>\n",
       "</div>"
      ],
      "text/plain": [
       "       Gender   Customer Type   Type of Travel     Class  \\\n",
       "34630  Female  Loyal Customer  Personal Travel       Eco   \n",
       "17484    Male  Loyal Customer  Personal Travel       Eco   \n",
       "81792  Female  Loyal Customer  Business travel  Business   \n",
       "16551  Female  Loyal Customer  Business travel       Eco   \n",
       "33666    Male  Loyal Customer  Business travel  Business   \n",
       "\n",
       "                  satisfaction  \n",
       "34630  neutral or dissatisfied  \n",
       "17484  neutral or dissatisfied  \n",
       "81792                satisfied  \n",
       "16551  neutral or dissatisfied  \n",
       "33666                satisfied  "
      ]
     },
     "execution_count": 183,
     "metadata": {},
     "output_type": "execute_result"
    }
   ],
   "source": [
    "cat_col=balance_df.select_dtypes(include='object')\n",
    "cat_col.head()"
   ]
  },
  {
   "cell_type": "code",
   "execution_count": 184,
   "id": "54860cc1",
   "metadata": {},
   "outputs": [],
   "source": [
    "#cat_col=cat_col.drop([])"
   ]
  },
  {
   "cell_type": "code",
   "execution_count": 185,
   "id": "2ce2db94",
   "metadata": {},
   "outputs": [
    {
     "data": {
      "text/html": [
       "<div>\n",
       "<style scoped>\n",
       "    .dataframe tbody tr th:only-of-type {\n",
       "        vertical-align: middle;\n",
       "    }\n",
       "\n",
       "    .dataframe tbody tr th {\n",
       "        vertical-align: top;\n",
       "    }\n",
       "\n",
       "    .dataframe thead th {\n",
       "        text-align: right;\n",
       "    }\n",
       "</style>\n",
       "<table border=\"1\" class=\"dataframe\">\n",
       "  <thead>\n",
       "    <tr style=\"text-align: right;\">\n",
       "      <th></th>\n",
       "      <th>Age</th>\n",
       "      <th>Flight Distance</th>\n",
       "      <th>Inflight entertainment</th>\n",
       "      <th>Baggage handling</th>\n",
       "      <th>Cleanliness</th>\n",
       "      <th>Departure Delay in Minutes</th>\n",
       "      <th>Arrival Delay in Minutes</th>\n",
       "    </tr>\n",
       "  </thead>\n",
       "  <tbody>\n",
       "    <tr>\n",
       "      <th>34630</th>\n",
       "      <td>48</td>\n",
       "      <td>718</td>\n",
       "      <td>2</td>\n",
       "      <td>2</td>\n",
       "      <td>3</td>\n",
       "      <td>10</td>\n",
       "      <td>5.0</td>\n",
       "    </tr>\n",
       "    <tr>\n",
       "      <th>17484</th>\n",
       "      <td>40</td>\n",
       "      <td>1199</td>\n",
       "      <td>1</td>\n",
       "      <td>2</td>\n",
       "      <td>1</td>\n",
       "      <td>0</td>\n",
       "      <td>8.0</td>\n",
       "    </tr>\n",
       "    <tr>\n",
       "      <th>81792</th>\n",
       "      <td>55</td>\n",
       "      <td>2051</td>\n",
       "      <td>5</td>\n",
       "      <td>5</td>\n",
       "      <td>5</td>\n",
       "      <td>0</td>\n",
       "      <td>10.0</td>\n",
       "    </tr>\n",
       "    <tr>\n",
       "      <th>16551</th>\n",
       "      <td>32</td>\n",
       "      <td>101</td>\n",
       "      <td>2</td>\n",
       "      <td>4</td>\n",
       "      <td>2</td>\n",
       "      <td>0</td>\n",
       "      <td>0.0</td>\n",
       "    </tr>\n",
       "    <tr>\n",
       "      <th>33666</th>\n",
       "      <td>42</td>\n",
       "      <td>986</td>\n",
       "      <td>3</td>\n",
       "      <td>3</td>\n",
       "      <td>4</td>\n",
       "      <td>0</td>\n",
       "      <td>0.0</td>\n",
       "    </tr>\n",
       "  </tbody>\n",
       "</table>\n",
       "</div>"
      ],
      "text/plain": [
       "       Age  Flight Distance  Inflight entertainment  Baggage handling  \\\n",
       "34630   48              718                       2                 2   \n",
       "17484   40             1199                       1                 2   \n",
       "81792   55             2051                       5                 5   \n",
       "16551   32              101                       2                 4   \n",
       "33666   42              986                       3                 3   \n",
       "\n",
       "       Cleanliness  Departure Delay in Minutes  Arrival Delay in Minutes  \n",
       "34630            3                          10                       5.0  \n",
       "17484            1                           0                       8.0  \n",
       "81792            5                           0                      10.0  \n",
       "16551            2                           0                       0.0  \n",
       "33666            4                           0                       0.0  "
      ]
     },
     "execution_count": 185,
     "metadata": {},
     "output_type": "execute_result"
    }
   ],
   "source": [
    "num_col=balance_df.select_dtypes(exclude=[\"object\"])\n",
    "num_col.head()"
   ]
  },
  {
   "cell_type": "code",
   "execution_count": 186,
   "id": "d8d56c3c",
   "metadata": {},
   "outputs": [
    {
     "data": {
      "text/plain": [
       "array([[0., 0., 1., ..., 1., 0., 0.],\n",
       "       [1., 0., 1., ..., 1., 0., 0.],\n",
       "       [0., 0., 0., ..., 0., 0., 1.],\n",
       "       ...,\n",
       "       [0., 1., 0., ..., 1., 0., 0.],\n",
       "       [1., 1., 0., ..., 0., 0., 0.],\n",
       "       [0., 1., 0., ..., 1., 0., 0.]])"
      ]
     },
     "execution_count": 186,
     "metadata": {},
     "output_type": "execute_result"
    }
   ],
   "source": [
    "from sklearn.preprocessing import OneHotEncoder,LabelEncoder\n",
    "\n",
    "ohe=OneHotEncoder(drop='if_binary')\n",
    "cat_cal_encoded=ohe.fit_transform(cat_col).toarray()\n",
    "cat_cal_encoded"
   ]
  },
  {
   "cell_type": "code",
   "execution_count": 187,
   "id": "d1dd312a",
   "metadata": {},
   "outputs": [
    {
     "data": {
      "text/plain": [
       "['Gender_Male',\n",
       " 'Customer Type_disloyal Customer',\n",
       " 'Type of Travel_Personal Travel',\n",
       " 'Class_Business',\n",
       " 'Class_Eco',\n",
       " 'Class_Eco Plus',\n",
       " 'satisfaction_satisfied']"
      ]
     },
     "execution_count": 187,
     "metadata": {},
     "output_type": "execute_result"
    }
   ],
   "source": [
    "column_names=list(ohe.get_feature_names_out())\n",
    "column_names"
   ]
  },
  {
   "cell_type": "code",
   "execution_count": 188,
   "id": "e70e5dde",
   "metadata": {},
   "outputs": [
    {
     "data": {
      "text/html": [
       "<div>\n",
       "<style scoped>\n",
       "    .dataframe tbody tr th:only-of-type {\n",
       "        vertical-align: middle;\n",
       "    }\n",
       "\n",
       "    .dataframe tbody tr th {\n",
       "        vertical-align: top;\n",
       "    }\n",
       "\n",
       "    .dataframe thead th {\n",
       "        text-align: right;\n",
       "    }\n",
       "</style>\n",
       "<table border=\"1\" class=\"dataframe\">\n",
       "  <thead>\n",
       "    <tr style=\"text-align: right;\">\n",
       "      <th></th>\n",
       "      <th>Gender_Male</th>\n",
       "      <th>Customer Type_disloyal Customer</th>\n",
       "      <th>Type of Travel_Personal Travel</th>\n",
       "      <th>Class_Business</th>\n",
       "      <th>Class_Eco</th>\n",
       "      <th>Class_Eco Plus</th>\n",
       "      <th>satisfaction_satisfied</th>\n",
       "    </tr>\n",
       "  </thead>\n",
       "  <tbody>\n",
       "    <tr>\n",
       "      <th>0</th>\n",
       "      <td>0.0</td>\n",
       "      <td>0.0</td>\n",
       "      <td>1.0</td>\n",
       "      <td>0.0</td>\n",
       "      <td>1.0</td>\n",
       "      <td>0.0</td>\n",
       "      <td>0.0</td>\n",
       "    </tr>\n",
       "    <tr>\n",
       "      <th>1</th>\n",
       "      <td>1.0</td>\n",
       "      <td>0.0</td>\n",
       "      <td>1.0</td>\n",
       "      <td>0.0</td>\n",
       "      <td>1.0</td>\n",
       "      <td>0.0</td>\n",
       "      <td>0.0</td>\n",
       "    </tr>\n",
       "    <tr>\n",
       "      <th>2</th>\n",
       "      <td>0.0</td>\n",
       "      <td>0.0</td>\n",
       "      <td>0.0</td>\n",
       "      <td>1.0</td>\n",
       "      <td>0.0</td>\n",
       "      <td>0.0</td>\n",
       "      <td>1.0</td>\n",
       "    </tr>\n",
       "    <tr>\n",
       "      <th>3</th>\n",
       "      <td>0.0</td>\n",
       "      <td>0.0</td>\n",
       "      <td>0.0</td>\n",
       "      <td>0.0</td>\n",
       "      <td>1.0</td>\n",
       "      <td>0.0</td>\n",
       "      <td>0.0</td>\n",
       "    </tr>\n",
       "    <tr>\n",
       "      <th>4</th>\n",
       "      <td>1.0</td>\n",
       "      <td>0.0</td>\n",
       "      <td>0.0</td>\n",
       "      <td>1.0</td>\n",
       "      <td>0.0</td>\n",
       "      <td>0.0</td>\n",
       "      <td>1.0</td>\n",
       "    </tr>\n",
       "  </tbody>\n",
       "</table>\n",
       "</div>"
      ],
      "text/plain": [
       "   Gender_Male  Customer Type_disloyal Customer  \\\n",
       "0          0.0                              0.0   \n",
       "1          1.0                              0.0   \n",
       "2          0.0                              0.0   \n",
       "3          0.0                              0.0   \n",
       "4          1.0                              0.0   \n",
       "\n",
       "   Type of Travel_Personal Travel  Class_Business  Class_Eco  Class_Eco Plus  \\\n",
       "0                             1.0             0.0        1.0             0.0   \n",
       "1                             1.0             0.0        1.0             0.0   \n",
       "2                             0.0             1.0        0.0             0.0   \n",
       "3                             0.0             0.0        1.0             0.0   \n",
       "4                             0.0             1.0        0.0             0.0   \n",
       "\n",
       "   satisfaction_satisfied  \n",
       "0                     0.0  \n",
       "1                     0.0  \n",
       "2                     1.0  \n",
       "3                     0.0  \n",
       "4                     1.0  "
      ]
     },
     "execution_count": 188,
     "metadata": {},
     "output_type": "execute_result"
    }
   ],
   "source": [
    "one_hot=pd.DataFrame(cat_cal_encoded,columns=column_names)\n",
    "one_hot.head()\n"
   ]
  },
  {
   "cell_type": "code",
   "execution_count": 189,
   "id": "223f3677",
   "metadata": {},
   "outputs": [],
   "source": [
    "one_hot=one_hot.reset_index(drop=True)# to prevent from giving null values after concating \n",
    "num_col=num_col.reset_index(drop=True)"
   ]
  },
  {
   "cell_type": "code",
   "execution_count": 190,
   "id": "ba0b2ac4",
   "metadata": {},
   "outputs": [
    {
     "data": {
      "text/html": [
       "<div>\n",
       "<style scoped>\n",
       "    .dataframe tbody tr th:only-of-type {\n",
       "        vertical-align: middle;\n",
       "    }\n",
       "\n",
       "    .dataframe tbody tr th {\n",
       "        vertical-align: top;\n",
       "    }\n",
       "\n",
       "    .dataframe thead th {\n",
       "        text-align: right;\n",
       "    }\n",
       "</style>\n",
       "<table border=\"1\" class=\"dataframe\">\n",
       "  <thead>\n",
       "    <tr style=\"text-align: right;\">\n",
       "      <th></th>\n",
       "      <th>Age</th>\n",
       "      <th>Flight Distance</th>\n",
       "      <th>Inflight entertainment</th>\n",
       "      <th>Baggage handling</th>\n",
       "      <th>Cleanliness</th>\n",
       "      <th>Departure Delay in Minutes</th>\n",
       "      <th>Arrival Delay in Minutes</th>\n",
       "      <th>Gender_Male</th>\n",
       "      <th>Customer Type_disloyal Customer</th>\n",
       "      <th>Type of Travel_Personal Travel</th>\n",
       "      <th>Class_Business</th>\n",
       "      <th>Class_Eco</th>\n",
       "      <th>Class_Eco Plus</th>\n",
       "      <th>satisfaction_satisfied</th>\n",
       "    </tr>\n",
       "  </thead>\n",
       "  <tbody>\n",
       "    <tr>\n",
       "      <th>0</th>\n",
       "      <td>48</td>\n",
       "      <td>718</td>\n",
       "      <td>2</td>\n",
       "      <td>2</td>\n",
       "      <td>3</td>\n",
       "      <td>10</td>\n",
       "      <td>5.0</td>\n",
       "      <td>0.0</td>\n",
       "      <td>0.0</td>\n",
       "      <td>1.0</td>\n",
       "      <td>0.0</td>\n",
       "      <td>1.0</td>\n",
       "      <td>0.0</td>\n",
       "      <td>0.0</td>\n",
       "    </tr>\n",
       "    <tr>\n",
       "      <th>1</th>\n",
       "      <td>40</td>\n",
       "      <td>1199</td>\n",
       "      <td>1</td>\n",
       "      <td>2</td>\n",
       "      <td>1</td>\n",
       "      <td>0</td>\n",
       "      <td>8.0</td>\n",
       "      <td>1.0</td>\n",
       "      <td>0.0</td>\n",
       "      <td>1.0</td>\n",
       "      <td>0.0</td>\n",
       "      <td>1.0</td>\n",
       "      <td>0.0</td>\n",
       "      <td>0.0</td>\n",
       "    </tr>\n",
       "    <tr>\n",
       "      <th>2</th>\n",
       "      <td>55</td>\n",
       "      <td>2051</td>\n",
       "      <td>5</td>\n",
       "      <td>5</td>\n",
       "      <td>5</td>\n",
       "      <td>0</td>\n",
       "      <td>10.0</td>\n",
       "      <td>0.0</td>\n",
       "      <td>0.0</td>\n",
       "      <td>0.0</td>\n",
       "      <td>1.0</td>\n",
       "      <td>0.0</td>\n",
       "      <td>0.0</td>\n",
       "      <td>1.0</td>\n",
       "    </tr>\n",
       "    <tr>\n",
       "      <th>3</th>\n",
       "      <td>32</td>\n",
       "      <td>101</td>\n",
       "      <td>2</td>\n",
       "      <td>4</td>\n",
       "      <td>2</td>\n",
       "      <td>0</td>\n",
       "      <td>0.0</td>\n",
       "      <td>0.0</td>\n",
       "      <td>0.0</td>\n",
       "      <td>0.0</td>\n",
       "      <td>0.0</td>\n",
       "      <td>1.0</td>\n",
       "      <td>0.0</td>\n",
       "      <td>0.0</td>\n",
       "    </tr>\n",
       "    <tr>\n",
       "      <th>4</th>\n",
       "      <td>42</td>\n",
       "      <td>986</td>\n",
       "      <td>3</td>\n",
       "      <td>3</td>\n",
       "      <td>4</td>\n",
       "      <td>0</td>\n",
       "      <td>0.0</td>\n",
       "      <td>1.0</td>\n",
       "      <td>0.0</td>\n",
       "      <td>0.0</td>\n",
       "      <td>1.0</td>\n",
       "      <td>0.0</td>\n",
       "      <td>0.0</td>\n",
       "      <td>1.0</td>\n",
       "    </tr>\n",
       "  </tbody>\n",
       "</table>\n",
       "</div>"
      ],
      "text/plain": [
       "   Age  Flight Distance  Inflight entertainment  Baggage handling  \\\n",
       "0   48              718                       2                 2   \n",
       "1   40             1199                       1                 2   \n",
       "2   55             2051                       5                 5   \n",
       "3   32              101                       2                 4   \n",
       "4   42              986                       3                 3   \n",
       "\n",
       "   Cleanliness  Departure Delay in Minutes  Arrival Delay in Minutes  \\\n",
       "0            3                          10                       5.0   \n",
       "1            1                           0                       8.0   \n",
       "2            5                           0                      10.0   \n",
       "3            2                           0                       0.0   \n",
       "4            4                           0                       0.0   \n",
       "\n",
       "   Gender_Male  Customer Type_disloyal Customer  \\\n",
       "0          0.0                              0.0   \n",
       "1          1.0                              0.0   \n",
       "2          0.0                              0.0   \n",
       "3          0.0                              0.0   \n",
       "4          1.0                              0.0   \n",
       "\n",
       "   Type of Travel_Personal Travel  Class_Business  Class_Eco  Class_Eco Plus  \\\n",
       "0                             1.0             0.0        1.0             0.0   \n",
       "1                             1.0             0.0        1.0             0.0   \n",
       "2                             0.0             1.0        0.0             0.0   \n",
       "3                             0.0             0.0        1.0             0.0   \n",
       "4                             0.0             1.0        0.0             0.0   \n",
       "\n",
       "   satisfaction_satisfied  \n",
       "0                     0.0  \n",
       "1                     0.0  \n",
       "2                     1.0  \n",
       "3                     0.0  \n",
       "4                     1.0  "
      ]
     },
     "execution_count": 190,
     "metadata": {},
     "output_type": "execute_result"
    }
   ],
   "source": [
    "final_df=pd.concat([num_col,one_hot],axis=1)\n",
    "final_df.head()"
   ]
  },
  {
   "cell_type": "code",
   "execution_count": 191,
   "id": "47d09d33",
   "metadata": {},
   "outputs": [
    {
     "data": {
      "text/html": [
       "<div>\n",
       "<style scoped>\n",
       "    .dataframe tbody tr th:only-of-type {\n",
       "        vertical-align: middle;\n",
       "    }\n",
       "\n",
       "    .dataframe tbody tr th {\n",
       "        vertical-align: top;\n",
       "    }\n",
       "\n",
       "    .dataframe thead th {\n",
       "        text-align: right;\n",
       "    }\n",
       "</style>\n",
       "<table border=\"1\" class=\"dataframe\">\n",
       "  <thead>\n",
       "    <tr style=\"text-align: right;\">\n",
       "      <th></th>\n",
       "      <th>Age</th>\n",
       "      <th>Flight Distance</th>\n",
       "      <th>Inflight entertainment</th>\n",
       "      <th>Baggage handling</th>\n",
       "      <th>Cleanliness</th>\n",
       "      <th>Departure Delay in Minutes</th>\n",
       "      <th>Arrival Delay in Minutes</th>\n",
       "      <th>Gender_Male</th>\n",
       "      <th>Customer Type_disloyal Customer</th>\n",
       "      <th>Type of Travel_Personal Travel</th>\n",
       "      <th>Class_Business</th>\n",
       "      <th>Class_Eco</th>\n",
       "      <th>Class_Eco Plus</th>\n",
       "      <th>satisfaction_satisfied</th>\n",
       "    </tr>\n",
       "  </thead>\n",
       "  <tbody>\n",
       "    <tr>\n",
       "      <th>Age</th>\n",
       "      <td>1.000000</td>\n",
       "      <td>0.140821</td>\n",
       "      <td>0.078607</td>\n",
       "      <td>-0.045980</td>\n",
       "      <td>0.056738</td>\n",
       "      <td>-0.000540</td>\n",
       "      <td>-0.003717</td>\n",
       "      <td>0.010806</td>\n",
       "      <td>-0.380488</td>\n",
       "      <td>0.074930</td>\n",
       "      <td>0.175952</td>\n",
       "      <td>-0.184324</td>\n",
       "      <td>0.019718</td>\n",
       "      <td>0.122620</td>\n",
       "    </tr>\n",
       "    <tr>\n",
       "      <th>Flight Distance</th>\n",
       "      <td>0.140821</td>\n",
       "      <td>1.000000</td>\n",
       "      <td>0.121231</td>\n",
       "      <td>0.053566</td>\n",
       "      <td>0.093647</td>\n",
       "      <td>0.009414</td>\n",
       "      <td>0.005052</td>\n",
       "      <td>0.015936</td>\n",
       "      <td>-0.331688</td>\n",
       "      <td>-0.127001</td>\n",
       "      <td>0.378587</td>\n",
       "      <td>-0.339524</td>\n",
       "      <td>-0.077523</td>\n",
       "      <td>0.279009</td>\n",
       "    </tr>\n",
       "    <tr>\n",
       "      <th>Inflight entertainment</th>\n",
       "      <td>0.078607</td>\n",
       "      <td>0.121231</td>\n",
       "      <td>1.000000</td>\n",
       "      <td>0.245437</td>\n",
       "      <td>0.800717</td>\n",
       "      <td>-0.016068</td>\n",
       "      <td>-0.019482</td>\n",
       "      <td>0.006178</td>\n",
       "      <td>-0.143073</td>\n",
       "      <td>-0.062262</td>\n",
       "      <td>0.138011</td>\n",
       "      <td>-0.124219</td>\n",
       "      <td>-0.027318</td>\n",
       "      <td>0.285530</td>\n",
       "    </tr>\n",
       "    <tr>\n",
       "      <th>Baggage handling</th>\n",
       "      <td>-0.045980</td>\n",
       "      <td>0.053566</td>\n",
       "      <td>0.245437</td>\n",
       "      <td>1.000000</td>\n",
       "      <td>0.064115</td>\n",
       "      <td>-0.015162</td>\n",
       "      <td>-0.020193</td>\n",
       "      <td>0.023831</td>\n",
       "      <td>0.031895</td>\n",
       "      <td>-0.039356</td>\n",
       "      <td>0.245018</td>\n",
       "      <td>-0.204221</td>\n",
       "      <td>-0.082779</td>\n",
       "      <td>0.232153</td>\n",
       "    </tr>\n",
       "    <tr>\n",
       "      <th>Cleanliness</th>\n",
       "      <td>0.056738</td>\n",
       "      <td>0.093647</td>\n",
       "      <td>0.800717</td>\n",
       "      <td>0.064115</td>\n",
       "      <td>1.000000</td>\n",
       "      <td>0.000947</td>\n",
       "      <td>-0.000236</td>\n",
       "      <td>0.005799</td>\n",
       "      <td>-0.108554</td>\n",
       "      <td>-0.020350</td>\n",
       "      <td>0.094101</td>\n",
       "      <td>-0.084083</td>\n",
       "      <td>-0.019918</td>\n",
       "      <td>0.215934</td>\n",
       "    </tr>\n",
       "    <tr>\n",
       "      <th>Departure Delay in Minutes</th>\n",
       "      <td>-0.000540</td>\n",
       "      <td>0.009414</td>\n",
       "      <td>-0.016068</td>\n",
       "      <td>-0.015162</td>\n",
       "      <td>0.000947</td>\n",
       "      <td>1.000000</td>\n",
       "      <td>0.965814</td>\n",
       "      <td>0.009812</td>\n",
       "      <td>0.001433</td>\n",
       "      <td>-0.009861</td>\n",
       "      <td>-0.016071</td>\n",
       "      <td>0.016083</td>\n",
       "      <td>-0.000218</td>\n",
       "      <td>-0.037608</td>\n",
       "    </tr>\n",
       "    <tr>\n",
       "      <th>Arrival Delay in Minutes</th>\n",
       "      <td>-0.003717</td>\n",
       "      <td>0.005052</td>\n",
       "      <td>-0.019482</td>\n",
       "      <td>-0.020193</td>\n",
       "      <td>-0.000236</td>\n",
       "      <td>0.965814</td>\n",
       "      <td>1.000000</td>\n",
       "      <td>0.006231</td>\n",
       "      <td>0.002093</td>\n",
       "      <td>-0.009598</td>\n",
       "      <td>-0.021079</td>\n",
       "      <td>0.020144</td>\n",
       "      <td>0.001710</td>\n",
       "      <td>-0.045621</td>\n",
       "    </tr>\n",
       "    <tr>\n",
       "      <th>Gender_Male</th>\n",
       "      <td>0.010806</td>\n",
       "      <td>0.015936</td>\n",
       "      <td>0.006178</td>\n",
       "      <td>0.023831</td>\n",
       "      <td>0.005799</td>\n",
       "      <td>0.009812</td>\n",
       "      <td>0.006231</td>\n",
       "      <td>1.000000</td>\n",
       "      <td>-0.043184</td>\n",
       "      <td>0.019709</td>\n",
       "      <td>0.022124</td>\n",
       "      <td>-0.004568</td>\n",
       "      <td>-0.036628</td>\n",
       "      <td>0.019809</td>\n",
       "    </tr>\n",
       "    <tr>\n",
       "      <th>Customer Type_disloyal Customer</th>\n",
       "      <td>-0.380488</td>\n",
       "      <td>-0.331688</td>\n",
       "      <td>-0.143073</td>\n",
       "      <td>0.031895</td>\n",
       "      <td>-0.108554</td>\n",
       "      <td>0.001433</td>\n",
       "      <td>0.002093</td>\n",
       "      <td>-0.043184</td>\n",
       "      <td>1.000000</td>\n",
       "      <td>-0.458984</td>\n",
       "      <td>-0.114399</td>\n",
       "      <td>0.157513</td>\n",
       "      <td>-0.091987</td>\n",
       "      <td>-0.251504</td>\n",
       "    </tr>\n",
       "    <tr>\n",
       "      <th>Type of Travel_Personal Travel</th>\n",
       "      <td>0.074930</td>\n",
       "      <td>-0.127001</td>\n",
       "      <td>-0.062262</td>\n",
       "      <td>-0.039356</td>\n",
       "      <td>-0.020350</td>\n",
       "      <td>-0.009861</td>\n",
       "      <td>-0.009598</td>\n",
       "      <td>0.019709</td>\n",
       "      <td>-0.458984</td>\n",
       "      <td>1.000000</td>\n",
       "      <td>-0.377002</td>\n",
       "      <td>0.322302</td>\n",
       "      <td>0.110404</td>\n",
       "      <td>-0.270064</td>\n",
       "    </tr>\n",
       "    <tr>\n",
       "      <th>Class_Business</th>\n",
       "      <td>0.175952</td>\n",
       "      <td>0.378587</td>\n",
       "      <td>0.138011</td>\n",
       "      <td>0.245018</td>\n",
       "      <td>0.094101</td>\n",
       "      <td>-0.016071</td>\n",
       "      <td>-0.021079</td>\n",
       "      <td>0.022124</td>\n",
       "      <td>-0.114399</td>\n",
       "      <td>-0.377002</td>\n",
       "      <td>1.000000</td>\n",
       "      <td>-0.886151</td>\n",
       "      <td>-0.227186</td>\n",
       "      <td>0.445321</td>\n",
       "    </tr>\n",
       "    <tr>\n",
       "      <th>Class_Eco</th>\n",
       "      <td>-0.184324</td>\n",
       "      <td>-0.339524</td>\n",
       "      <td>-0.124219</td>\n",
       "      <td>-0.204221</td>\n",
       "      <td>-0.084083</td>\n",
       "      <td>0.016083</td>\n",
       "      <td>0.020144</td>\n",
       "      <td>-0.004568</td>\n",
       "      <td>0.157513</td>\n",
       "      <td>0.322302</td>\n",
       "      <td>-0.886151</td>\n",
       "      <td>1.000000</td>\n",
       "      <td>-0.249958</td>\n",
       "      <td>-0.401462</td>\n",
       "    </tr>\n",
       "    <tr>\n",
       "      <th>Class_Eco Plus</th>\n",
       "      <td>0.019718</td>\n",
       "      <td>-0.077523</td>\n",
       "      <td>-0.027318</td>\n",
       "      <td>-0.082779</td>\n",
       "      <td>-0.019918</td>\n",
       "      <td>-0.000218</td>\n",
       "      <td>0.001710</td>\n",
       "      <td>-0.036628</td>\n",
       "      <td>-0.091987</td>\n",
       "      <td>0.110404</td>\n",
       "      <td>-0.227186</td>\n",
       "      <td>-0.249958</td>\n",
       "      <td>1.000000</td>\n",
       "      <td>-0.086796</td>\n",
       "    </tr>\n",
       "    <tr>\n",
       "      <th>satisfaction_satisfied</th>\n",
       "      <td>0.122620</td>\n",
       "      <td>0.279009</td>\n",
       "      <td>0.285530</td>\n",
       "      <td>0.232153</td>\n",
       "      <td>0.215934</td>\n",
       "      <td>-0.037608</td>\n",
       "      <td>-0.045621</td>\n",
       "      <td>0.019809</td>\n",
       "      <td>-0.251504</td>\n",
       "      <td>-0.270064</td>\n",
       "      <td>0.445321</td>\n",
       "      <td>-0.401462</td>\n",
       "      <td>-0.086796</td>\n",
       "      <td>1.000000</td>\n",
       "    </tr>\n",
       "  </tbody>\n",
       "</table>\n",
       "</div>"
      ],
      "text/plain": [
       "                                      Age  Flight Distance  \\\n",
       "Age                              1.000000         0.140821   \n",
       "Flight Distance                  0.140821         1.000000   \n",
       "Inflight entertainment           0.078607         0.121231   \n",
       "Baggage handling                -0.045980         0.053566   \n",
       "Cleanliness                      0.056738         0.093647   \n",
       "Departure Delay in Minutes      -0.000540         0.009414   \n",
       "Arrival Delay in Minutes        -0.003717         0.005052   \n",
       "Gender_Male                      0.010806         0.015936   \n",
       "Customer Type_disloyal Customer -0.380488        -0.331688   \n",
       "Type of Travel_Personal Travel   0.074930        -0.127001   \n",
       "Class_Business                   0.175952         0.378587   \n",
       "Class_Eco                       -0.184324        -0.339524   \n",
       "Class_Eco Plus                   0.019718        -0.077523   \n",
       "satisfaction_satisfied           0.122620         0.279009   \n",
       "\n",
       "                                 Inflight entertainment  Baggage handling  \\\n",
       "Age                                            0.078607         -0.045980   \n",
       "Flight Distance                                0.121231          0.053566   \n",
       "Inflight entertainment                         1.000000          0.245437   \n",
       "Baggage handling                               0.245437          1.000000   \n",
       "Cleanliness                                    0.800717          0.064115   \n",
       "Departure Delay in Minutes                    -0.016068         -0.015162   \n",
       "Arrival Delay in Minutes                      -0.019482         -0.020193   \n",
       "Gender_Male                                    0.006178          0.023831   \n",
       "Customer Type_disloyal Customer               -0.143073          0.031895   \n",
       "Type of Travel_Personal Travel                -0.062262         -0.039356   \n",
       "Class_Business                                 0.138011          0.245018   \n",
       "Class_Eco                                     -0.124219         -0.204221   \n",
       "Class_Eco Plus                                -0.027318         -0.082779   \n",
       "satisfaction_satisfied                         0.285530          0.232153   \n",
       "\n",
       "                                 Cleanliness  Departure Delay in Minutes  \\\n",
       "Age                                 0.056738                   -0.000540   \n",
       "Flight Distance                     0.093647                    0.009414   \n",
       "Inflight entertainment              0.800717                   -0.016068   \n",
       "Baggage handling                    0.064115                   -0.015162   \n",
       "Cleanliness                         1.000000                    0.000947   \n",
       "Departure Delay in Minutes          0.000947                    1.000000   \n",
       "Arrival Delay in Minutes           -0.000236                    0.965814   \n",
       "Gender_Male                         0.005799                    0.009812   \n",
       "Customer Type_disloyal Customer    -0.108554                    0.001433   \n",
       "Type of Travel_Personal Travel     -0.020350                   -0.009861   \n",
       "Class_Business                      0.094101                   -0.016071   \n",
       "Class_Eco                          -0.084083                    0.016083   \n",
       "Class_Eco Plus                     -0.019918                   -0.000218   \n",
       "satisfaction_satisfied              0.215934                   -0.037608   \n",
       "\n",
       "                                 Arrival Delay in Minutes  Gender_Male  \\\n",
       "Age                                             -0.003717     0.010806   \n",
       "Flight Distance                                  0.005052     0.015936   \n",
       "Inflight entertainment                          -0.019482     0.006178   \n",
       "Baggage handling                                -0.020193     0.023831   \n",
       "Cleanliness                                     -0.000236     0.005799   \n",
       "Departure Delay in Minutes                       0.965814     0.009812   \n",
       "Arrival Delay in Minutes                         1.000000     0.006231   \n",
       "Gender_Male                                      0.006231     1.000000   \n",
       "Customer Type_disloyal Customer                  0.002093    -0.043184   \n",
       "Type of Travel_Personal Travel                  -0.009598     0.019709   \n",
       "Class_Business                                  -0.021079     0.022124   \n",
       "Class_Eco                                        0.020144    -0.004568   \n",
       "Class_Eco Plus                                   0.001710    -0.036628   \n",
       "satisfaction_satisfied                          -0.045621     0.019809   \n",
       "\n",
       "                                 Customer Type_disloyal Customer  \\\n",
       "Age                                                    -0.380488   \n",
       "Flight Distance                                        -0.331688   \n",
       "Inflight entertainment                                 -0.143073   \n",
       "Baggage handling                                        0.031895   \n",
       "Cleanliness                                            -0.108554   \n",
       "Departure Delay in Minutes                              0.001433   \n",
       "Arrival Delay in Minutes                                0.002093   \n",
       "Gender_Male                                            -0.043184   \n",
       "Customer Type_disloyal Customer                         1.000000   \n",
       "Type of Travel_Personal Travel                         -0.458984   \n",
       "Class_Business                                         -0.114399   \n",
       "Class_Eco                                               0.157513   \n",
       "Class_Eco Plus                                         -0.091987   \n",
       "satisfaction_satisfied                                 -0.251504   \n",
       "\n",
       "                                 Type of Travel_Personal Travel  \\\n",
       "Age                                                    0.074930   \n",
       "Flight Distance                                       -0.127001   \n",
       "Inflight entertainment                                -0.062262   \n",
       "Baggage handling                                      -0.039356   \n",
       "Cleanliness                                           -0.020350   \n",
       "Departure Delay in Minutes                            -0.009861   \n",
       "Arrival Delay in Minutes                              -0.009598   \n",
       "Gender_Male                                            0.019709   \n",
       "Customer Type_disloyal Customer                       -0.458984   \n",
       "Type of Travel_Personal Travel                         1.000000   \n",
       "Class_Business                                        -0.377002   \n",
       "Class_Eco                                              0.322302   \n",
       "Class_Eco Plus                                         0.110404   \n",
       "satisfaction_satisfied                                -0.270064   \n",
       "\n",
       "                                 Class_Business  Class_Eco  Class_Eco Plus  \\\n",
       "Age                                    0.175952  -0.184324        0.019718   \n",
       "Flight Distance                        0.378587  -0.339524       -0.077523   \n",
       "Inflight entertainment                 0.138011  -0.124219       -0.027318   \n",
       "Baggage handling                       0.245018  -0.204221       -0.082779   \n",
       "Cleanliness                            0.094101  -0.084083       -0.019918   \n",
       "Departure Delay in Minutes            -0.016071   0.016083       -0.000218   \n",
       "Arrival Delay in Minutes              -0.021079   0.020144        0.001710   \n",
       "Gender_Male                            0.022124  -0.004568       -0.036628   \n",
       "Customer Type_disloyal Customer       -0.114399   0.157513       -0.091987   \n",
       "Type of Travel_Personal Travel        -0.377002   0.322302        0.110404   \n",
       "Class_Business                         1.000000  -0.886151       -0.227186   \n",
       "Class_Eco                             -0.886151   1.000000       -0.249958   \n",
       "Class_Eco Plus                        -0.227186  -0.249958        1.000000   \n",
       "satisfaction_satisfied                 0.445321  -0.401462       -0.086796   \n",
       "\n",
       "                                 satisfaction_satisfied  \n",
       "Age                                            0.122620  \n",
       "Flight Distance                                0.279009  \n",
       "Inflight entertainment                         0.285530  \n",
       "Baggage handling                               0.232153  \n",
       "Cleanliness                                    0.215934  \n",
       "Departure Delay in Minutes                    -0.037608  \n",
       "Arrival Delay in Minutes                      -0.045621  \n",
       "Gender_Male                                    0.019809  \n",
       "Customer Type_disloyal Customer               -0.251504  \n",
       "Type of Travel_Personal Travel                -0.270064  \n",
       "Class_Business                                 0.445321  \n",
       "Class_Eco                                     -0.401462  \n",
       "Class_Eco Plus                                -0.086796  \n",
       "satisfaction_satisfied                         1.000000  "
      ]
     },
     "execution_count": 191,
     "metadata": {},
     "output_type": "execute_result"
    }
   ],
   "source": [
    "matrix=final_df.corr()\n",
    "matrix"
   ]
  },
  {
   "cell_type": "code",
   "execution_count": 192,
   "id": "55bf40ed",
   "metadata": {},
   "outputs": [
    {
     "data": {
      "text/plain": [
       "<Axes: >"
      ]
     },
     "execution_count": 192,
     "metadata": {},
     "output_type": "execute_result"
    },
    {
     "data": {
      "image/png": "[encoded data removed]",
      "text/plain": [
       "<Figure size 640x480 with 2 Axes>"
      ]
     },
     "metadata": {},
     "output_type": "display_data"
    }
   ],
   "source": [
    "sns.heatmap(matrix,annot=True,cmap=\"coolwarm\")\n"
   ]
  },
  {
   "cell_type": "code",
   "execution_count": 193,
   "id": "fd3a5025",
   "metadata": {},
   "outputs": [],
   "source": [
    "x=final_df.drop(\"satisfaction_satisfied\",axis=1)\n",
    "y=final_df[\"satisfaction_satisfied\"]"
   ]
  },
  {
   "cell_type": "code",
   "execution_count": 194,
   "id": "b591ad0f",
   "metadata": {},
   "outputs": [],
   "source": [
    "from sklearn.model_selection import train_test_split\n",
    "x_train,x_test,y_train,y_test=train_test_split(x,y,test_size=0.2,random_state=42)"
   ]
  },
  {
   "cell_type": "code",
   "execution_count": 195,
   "id": "9c16f1fa",
   "metadata": {},
   "outputs": [],
   "source": [
    "# deep learning\n",
    "# Standard Scalar\n",
    "from sklearn.preprocessing import StandardScaler\n",
    "sc=StandardScaler()\n",
    "x_train_transform=sc.fit_transform(x_train)\n",
    "x_test_transform=sc.transform(x_test)\n"
   ]
  },
  {
   "cell_type": "code",
   "execution_count": 196,
   "id": "d1fb63a5",
   "metadata": {},
   "outputs": [],
   "source": [
    "# define your ann model\n",
    "from tensorflow.keras.models import Sequential\n",
    "from tensorflow.keras.layers import Dense"
   ]
  },
  {
   "cell_type": "code",
   "execution_count": 197,
   "id": "ff0f5514",
   "metadata": {},
   "outputs": [
    {
     "data": {
      "text/plain": [
       "(31124, 13)"
      ]
     },
     "execution_count": 197,
     "metadata": {},
     "output_type": "execute_result"
    }
   ],
   "source": [
    "x_train.shape"
   ]
  },
  {
   "cell_type": "code",
   "execution_count": 198,
   "id": "6bd6a2a5",
   "metadata": {},
   "outputs": [
    {
     "name": "stderr",
     "output_type": "stream",
     "text": [
      "c:\\Users\\dell\\AppData\\Local\\Programs\\Python\\Python311\\Lib\\site-packages\\keras\\src\\layers\\core\\dense.py:93: UserWarning: Do not pass an `input_shape`/`input_dim` argument to a layer. When using Sequential models, prefer using an `Input(shape)` object as the first layer in the model instead.\n",
      "  super().__init__(activity_regularizer=activity_regularizer, **kwargs)\n"
     ]
    },
    {
     "data": {
      "text/html": [
       "<pre style=\"white-space:pre;overflow-x:auto;line-height:normal;font-family:Menlo,'DejaVu Sans Mono',consolas,'Courier New',monospace\"><span style=\"font-weight: bold\">Model: \"sequential_6\"</span>\n",
       "</pre>\n"
      ],
      "text/plain": [
       "\u001b[1mModel: \"sequential_6\"\u001b[0m\n"
      ]
     },
     "metadata": {},
     "output_type": "display_data"
    },
    {
     "data": {
      "text/html": [
       "<pre style=\"white-space:pre;overflow-x:auto;line-height:normal;font-family:Menlo,'DejaVu Sans Mono',consolas,'Courier New',monospace\">┏━━━━━━━━━━━━━━━━━━━━━━━━━━━━━━━━━┳━━━━━━━━━━━━━━━━━━━━━━━━┳━━━━━━━━━━━━━━━┓\n",
       "┃<span style=\"font-weight: bold\"> Layer (type)                    </span>┃<span style=\"font-weight: bold\"> Output Shape           </span>┃<span style=\"font-weight: bold\">       Param # </span>┃\n",
       "┡━━━━━━━━━━━━━━━━━━━━━━━━━━━━━━━━━╇━━━━━━━━━━━━━━━━━━━━━━━━╇━━━━━━━━━━━━━━━┩\n",
       "│ dense_26 (<span style=\"color: #0087ff; text-decoration-color: #0087ff\">Dense</span>)                │ (<span style=\"color: #00d7ff; text-decoration-color: #00d7ff\">None</span>, <span style=\"color: #00af00; text-decoration-color: #00af00\">68</span>)             │           <span style=\"color: #00af00; text-decoration-color: #00af00\">952</span> │\n",
       "├─────────────────────────────────┼────────────────────────┼───────────────┤\n",
       "│ dense_27 (<span style=\"color: #0087ff; text-decoration-color: #0087ff\">Dense</span>)                │ (<span style=\"color: #00d7ff; text-decoration-color: #00d7ff\">None</span>, <span style=\"color: #00af00; text-decoration-color: #00af00\">32</span>)             │         <span style=\"color: #00af00; text-decoration-color: #00af00\">2,208</span> │\n",
       "├─────────────────────────────────┼────────────────────────┼───────────────┤\n",
       "│ dense_28 (<span style=\"color: #0087ff; text-decoration-color: #0087ff\">Dense</span>)                │ (<span style=\"color: #00d7ff; text-decoration-color: #00d7ff\">None</span>, <span style=\"color: #00af00; text-decoration-color: #00af00\">24</span>)             │           <span style=\"color: #00af00; text-decoration-color: #00af00\">792</span> │\n",
       "├─────────────────────────────────┼────────────────────────┼───────────────┤\n",
       "│ dense_29 (<span style=\"color: #0087ff; text-decoration-color: #0087ff\">Dense</span>)                │ (<span style=\"color: #00d7ff; text-decoration-color: #00d7ff\">None</span>, <span style=\"color: #00af00; text-decoration-color: #00af00\">12</span>)             │           <span style=\"color: #00af00; text-decoration-color: #00af00\">300</span> │\n",
       "├─────────────────────────────────┼────────────────────────┼───────────────┤\n",
       "│ dense_30 (<span style=\"color: #0087ff; text-decoration-color: #0087ff\">Dense</span>)                │ (<span style=\"color: #00d7ff; text-decoration-color: #00d7ff\">None</span>, <span style=\"color: #00af00; text-decoration-color: #00af00\">1</span>)              │            <span style=\"color: #00af00; text-decoration-color: #00af00\">13</span> │\n",
       "└─────────────────────────────────┴────────────────────────┴───────────────┘\n",
       "</pre>\n"
      ],
      "text/plain": [
       "┏━━━━━━━━━━━━━━━━━━━━━━━━━━━━━━━━━┳━━━━━━━━━━━━━━━━━━━━━━━━┳━━━━━━━━━━━━━━━┓\n",
       "┃\u001b[1m \u001b[0m\u001b[1mLayer (type)                   \u001b[0m\u001b[1m \u001b[0m┃\u001b[1m \u001b[0m\u001b[1mOutput Shape          \u001b[0m\u001b[1m \u001b[0m┃\u001b[1m \u001b[0m\u001b[1m      Param #\u001b[0m\u001b[1m \u001b[0m┃\n",
       "┡━━━━━━━━━━━━━━━━━━━━━━━━━━━━━━━━━╇━━━━━━━━━━━━━━━━━━━━━━━━╇━━━━━━━━━━━━━━━┩\n",
       "│ dense_26 (\u001b[38;5;33mDense\u001b[0m)                │ (\u001b[38;5;45mNone\u001b[0m, \u001b[38;5;34m68\u001b[0m)             │           \u001b[38;5;34m952\u001b[0m │\n",
       "├─────────────────────────────────┼────────────────────────┼───────────────┤\n",
       "│ dense_27 (\u001b[38;5;33mDense\u001b[0m)                │ (\u001b[38;5;45mNone\u001b[0m, \u001b[38;5;34m32\u001b[0m)             │         \u001b[38;5;34m2,208\u001b[0m │\n",
       "├─────────────────────────────────┼────────────────────────┼───────────────┤\n",
       "│ dense_28 (\u001b[38;5;33mDense\u001b[0m)                │ (\u001b[38;5;45mNone\u001b[0m, \u001b[38;5;34m24\u001b[0m)             │           \u001b[38;5;34m792\u001b[0m │\n",
       "├─────────────────────────────────┼────────────────────────┼───────────────┤\n",
       "│ dense_29 (\u001b[38;5;33mDense\u001b[0m)                │ (\u001b[38;5;45mNone\u001b[0m, \u001b[38;5;34m12\u001b[0m)             │           \u001b[38;5;34m300\u001b[0m │\n",
       "├─────────────────────────────────┼────────────────────────┼───────────────┤\n",
       "│ dense_30 (\u001b[38;5;33mDense\u001b[0m)                │ (\u001b[38;5;45mNone\u001b[0m, \u001b[38;5;34m1\u001b[0m)              │            \u001b[38;5;34m13\u001b[0m │\n",
       "└─────────────────────────────────┴────────────────────────┴───────────────┘\n"
      ]
     },
     "metadata": {},
     "output_type": "display_data"
    },
    {
     "data": {
      "text/html": [
       "<pre style=\"white-space:pre;overflow-x:auto;line-height:normal;font-family:Menlo,'DejaVu Sans Mono',consolas,'Courier New',monospace\"><span style=\"font-weight: bold\"> Total params: </span><span style=\"color: #00af00; text-decoration-color: #00af00\">4,265</span> (16.66 KB)\n",
       "</pre>\n"
      ],
      "text/plain": [
       "\u001b[1m Total params: \u001b[0m\u001b[38;5;34m4,265\u001b[0m (16.66 KB)\n"
      ]
     },
     "metadata": {},
     "output_type": "display_data"
    },
    {
     "data": {
      "text/html": [
       "<pre style=\"white-space:pre;overflow-x:auto;line-height:normal;font-family:Menlo,'DejaVu Sans Mono',consolas,'Courier New',monospace\"><span style=\"font-weight: bold\"> Trainable params: </span><span style=\"color: #00af00; text-decoration-color: #00af00\">4,265</span> (16.66 KB)\n",
       "</pre>\n"
      ],
      "text/plain": [
       "\u001b[1m Trainable params: \u001b[0m\u001b[38;5;34m4,265\u001b[0m (16.66 KB)\n"
      ]
     },
     "metadata": {},
     "output_type": "display_data"
    },
    {
     "data": {
      "text/html": [
       "<pre style=\"white-space:pre;overflow-x:auto;line-height:normal;font-family:Menlo,'DejaVu Sans Mono',consolas,'Courier New',monospace\"><span style=\"font-weight: bold\"> Non-trainable params: </span><span style=\"color: #00af00; text-decoration-color: #00af00\">0</span> (0.00 B)\n",
       "</pre>\n"
      ],
      "text/plain": [
       "\u001b[1m Non-trainable params: \u001b[0m\u001b[38;5;34m0\u001b[0m (0.00 B)\n"
      ]
     },
     "metadata": {},
     "output_type": "display_data"
    }
   ],
   "source": [
    "#initialising Sequential\n",
    "model=Sequential()\n",
    "# Initialize the model\n",
    "# Input layer + first hidden layer\n",
    "#model.add(Dense(    -->no of neurons -> activation -->input dimension ))\n",
    "\n",
    "model.add(Dense(68, activation=\"relu\", input_dim=x_train_transform.shape[1]))\n",
    "\n",
    "# Hidden layers\n",
    "model.add(Dense(32, activation=\"relu\"))\n",
    "model.add(Dense(24, activation=\"relu\"))\n",
    "model.add(Dense(12, activation=\"relu\"))\n",
    "\n",
    "# Output layer\n",
    "model.add(Dense(1, activation=\"sigmoid\"))\n",
    "\n",
    "# Compile the model\n",
    "model.compile(optimizer=\"adam\", loss=\"binary_crossentropy\", metrics=[\"accuracy\"])\n",
    "\n",
    "# Display model summary\n",
    "model.summary()\n"
   ]
  },
  {
   "cell_type": "code",
   "execution_count": 199,
   "id": "cbcad4fe",
   "metadata": {},
   "outputs": [
    {
     "data": {
      "text/plain": [
       "4265"
      ]
     },
     "execution_count": 199,
     "metadata": {},
     "output_type": "execute_result"
    }
   ],
   "source": [
    "# Total params: 4,265 (16.66 KB) this means a particular layer has 4,265 parameters that are need to be train\n",
    "#these are calculated by formula (n_in + 1) * n_out here, n is the number of inputs\n",
    "#e.g\n",
    "((13+1)*68)+(68+1)*32+(32+1)*24+(24+1)*12+(12+1)*1\n"
   ]
  },
  {
   "cell_type": "markdown",
   "id": "df6b8c0b",
   "metadata": {},
   "source": [
    "#### for finding optimal epochs we need regularisation techniques"
   ]
  },
  {
   "cell_type": "code",
   "execution_count": 200,
   "id": "03ec0b51",
   "metadata": {},
   "outputs": [
    {
     "name": "stdout",
     "output_type": "stream",
     "text": [
      "Epoch 1/10\n",
      "\u001b[1m973/973\u001b[0m \u001b[32m━━━━━━━━━━━━━━━━━━━━\u001b[0m\u001b[37m\u001b[0m \u001b[1m3s\u001b[0m 2ms/step - accuracy: 0.7954 - loss: 0.4484 - val_accuracy: 0.8358 - val_loss: 0.3886\n",
      "Epoch 2/10\n",
      "\u001b[1m973/973\u001b[0m \u001b[32m━━━━━━━━━━━━━━━━━━━━\u001b[0m\u001b[37m\u001b[0m \u001b[1m2s\u001b[0m 2ms/step - accuracy: 0.8471 - loss: 0.3655 - val_accuracy: 0.8391 - val_loss: 0.3832\n",
      "Epoch 3/10\n",
      "\u001b[1m973/973\u001b[0m \u001b[32m━━━━━━━━━━━━━━━━━━━━\u001b[0m\u001b[37m\u001b[0m \u001b[1m2s\u001b[0m 2ms/step - accuracy: 0.8471 - loss: 0.3629 - val_accuracy: 0.8433 - val_loss: 0.3750\n",
      "Epoch 4/10\n",
      "\u001b[1m973/973\u001b[0m \u001b[32m━━━━━━━━━━━━━━━━━━━━\u001b[0m\u001b[37m\u001b[0m \u001b[1m2s\u001b[0m 2ms/step - accuracy: 0.8473 - loss: 0.3600 - val_accuracy: 0.8494 - val_loss: 0.3648\n",
      "Epoch 5/10\n",
      "\u001b[1m973/973\u001b[0m \u001b[32m━━━━━━━━━━━━━━━━━━━━\u001b[0m\u001b[37m\u001b[0m \u001b[1m2s\u001b[0m 2ms/step - accuracy: 0.8522 - loss: 0.3525 - val_accuracy: 0.8430 - val_loss: 0.3673\n",
      "Epoch 6/10\n",
      "\u001b[1m973/973\u001b[0m \u001b[32m━━━━━━━━━━━━━━━━━━━━\u001b[0m\u001b[37m\u001b[0m \u001b[1m2s\u001b[0m 2ms/step - accuracy: 0.8544 - loss: 0.3512 - val_accuracy: 0.8465 - val_loss: 0.3646\n",
      "Epoch 7/10\n",
      "\u001b[1m973/973\u001b[0m \u001b[32m━━━━━━━━━━━━━━━━━━━━\u001b[0m\u001b[37m\u001b[0m \u001b[1m2s\u001b[0m 2ms/step - accuracy: 0.8540 - loss: 0.3477 - val_accuracy: 0.8471 - val_loss: 0.3624\n",
      "Epoch 8/10\n",
      "\u001b[1m973/973\u001b[0m \u001b[32m━━━━━━━━━━━━━━━━━━━━\u001b[0m\u001b[37m\u001b[0m \u001b[1m2s\u001b[0m 2ms/step - accuracy: 0.8564 - loss: 0.3418 - val_accuracy: 0.8507 - val_loss: 0.3633\n",
      "Epoch 9/10\n",
      "\u001b[1m973/973\u001b[0m \u001b[32m━━━━━━━━━━━━━━━━━━━━\u001b[0m\u001b[37m\u001b[0m \u001b[1m2s\u001b[0m 2ms/step - accuracy: 0.8538 - loss: 0.3448 - val_accuracy: 0.8513 - val_loss: 0.3643\n",
      "Epoch 10/10\n",
      "\u001b[1m973/973\u001b[0m \u001b[32m━━━━━━━━━━━━━━━━━━━━\u001b[0m\u001b[37m\u001b[0m \u001b[1m2s\u001b[0m 2ms/step - accuracy: 0.8509 - loss: 0.3454 - val_accuracy: 0.8518 - val_loss: 0.3611\n"
     ]
    }
   ],
   "source": [
    "history=model.fit(x_train_transform,\n",
    "                  y_train,\n",
    "                  epochs=10,\n",
    "                  validation_data=(x_test_transform,y_test),\n",
    "                  )"
   ]
  },
  {
   "cell_type": "code",
   "execution_count": 201,
   "id": "000c884e",
   "metadata": {},
   "outputs": [
    {
     "name": "stdout",
     "output_type": "stream",
     "text": [
      "\u001b[1m244/244\u001b[0m \u001b[32m━━━━━━━━━━━━━━━━━━━━\u001b[0m\u001b[37m\u001b[0m \u001b[1m0s\u001b[0m 1ms/step  \n"
     ]
    },
    {
     "data": {
      "text/plain": [
       "array([0, 0, 0, ..., 0, 0, 1])"
      ]
     },
     "execution_count": 201,
     "metadata": {},
     "output_type": "execute_result"
    }
   ],
   "source": [
    "## prediction\n",
    "y_pred=model.predict(x_test_transform)\n",
    "prediction_label=(y_pred>0.5).astype(int).ravel()\n",
    "prediction_label"
   ]
  },
  {
   "cell_type": "code",
   "execution_count": 202,
   "id": "4b1c3a7d",
   "metadata": {},
   "outputs": [],
   "source": [
    "# to save model\n",
    "model.save(\"logistic_model.keras\")"
   ]
  },
  {
   "cell_type": "code",
   "execution_count": 203,
   "id": "b469ac86",
   "metadata": {},
   "outputs": [],
   "source": [
    "# to load model\n",
    "from tensorflow.keras.models import load_model\n",
    "model=load_model(\"logistic_model.keras\")"
   ]
  },
  {
   "cell_type": "code",
   "execution_count": null,
   "id": "6e4043e6",
   "metadata": {},
   "outputs": [],
   "source": []
  }
 ],
 "metadata": {
  "kernelspec": {
   "display_name": "Python 3",
   "language": "python",
   "name": "python3"
  },
  "language_info": {
   "codemirror_mode": {
    "name": "ipython",
    "version": 3
   },
   "file_extension": ".py",
   "mimetype": "text/x-python",
   "name": "python",
   "nbconvert_exporter": "python",
   "pygments_lexer": "ipython3",
   "version": "3.11.9"
  }
 },
 "nbformat": 4,
 "nbformat_minor": 5
}
