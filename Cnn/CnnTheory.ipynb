{
 "cells": [
  {
   "cell_type": "markdown",
   "id": "2021eae4",
   "metadata": {},
   "source": [
    "# KNN"
   ]
  },
  {
   "cell_type": "markdown",
   "id": "9f88f11f",
   "metadata": {},
   "source": [
    "in this we have to first study about ``` image processing```\n",
    "\n",
    "processing is defined as a set of operations that is done on the image to enhance the image quality\n",
    "contrast features or prepare them for others\n",
    "\n",
    "types of images processing --> 1. analog image\n",
    "                              2. digital image\n",
    "\n",
    "applications -->\n",
    "1. medical field\n",
    "2. remote sensing\n",
    "3. radar\n",
    "4. sonar\n",
    "\n"
   ]
  },
  {
   "cell_type": "markdown",
   "id": "ada33707",
   "metadata": {},
   "source": [
    "### image presentation"
   ]
  },
  {
   "cell_type": "markdown",
   "id": "2e1f6a3b",
   "metadata": {},
   "source": [
    "```pixel -->``` a smallest unit of image and each pixel represents a intensity value (brightness value)\n",
    "\n",
    "there are ```2 types of image -->``` 1. gray-scale [8- bit image]\n",
    "\n",
    " 2. RGB image\n",
    "\n",
    "```bit depth``` is defined as the number of bits used to represent the intensity value of a pixel\n",
    "\n",
    "```1-bit``` has two labels --> black and white\n",
    "\n",
    "```8-bit``` has 256 labels of gray scaling here 0 represent black and 255 represent white and remaining represent shades of gray\n",
    "\n",
    "```24-bit``` is for color images and each pixel has 3 components --> red ,green and blue (8-bit for each component)\n",
    "so total shades are 2^8*2^8*2^8= 256*256*256=16777216\n"
   ]
  },
  {
   "cell_type": "markdown",
   "id": "b786555b",
   "metadata": {},
   "source": [
    "libraries for knn --> 1. open cv (this is a c++ library which have python integration)\n",
    "                     \n",
    "                      2. pillow ()"
   ]
  },
  {
   "cell_type": "markdown",
   "id": "9fc7c632",
   "metadata": {},
   "source": []
  },
  {
   "cell_type": "markdown",
   "id": "7508901f",
   "metadata": {},
   "source": []
  }
 ],
 "metadata": {
  "language_info": {
   "name": "python"
  }
 },
 "nbformat": 4,
 "nbformat_minor": 5
}
