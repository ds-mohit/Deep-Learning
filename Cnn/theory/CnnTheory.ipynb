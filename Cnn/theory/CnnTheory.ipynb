{
 "cells": [
  {
   "cell_type": "markdown",
   "id": "2021eae4",
   "metadata": {},
   "source": [
    "# CNN"
   ]
  },
  {
   "cell_type": "markdown",
   "id": "9f88f11f",
   "metadata": {},
   "source": [
    "in this we have to first study about ``` image processing```\n",
    "\n",
    "processing is defined as a set of operations that is done on the image to enhance the image quality\n",
    "contrast features or prepare them for others\n",
    "\n",
    "types of images processing --> 1. analog image\n",
    "                              2. digital image\n",
    "\n",
    "applications -->\n",
    "1. medical field\n",
    "2. remote sensing\n",
    "3. radar\n",
    "4. sonar\n",
    "\n"
   ]
  },
  {
   "cell_type": "markdown",
   "id": "ada33707",
   "metadata": {},
   "source": [
    "### image presentation"
   ]
  },
  {
   "cell_type": "markdown",
   "id": "2e1f6a3b",
   "metadata": {},
   "source": [
    "```pixel -->``` a smallest unit of image and each pixel represents a intensity value (brightness value)\n",
    "\n",
    "there are ```2 types of image -->``` 1. gray-scale [8- bit image]\n",
    "\n",
    " 2. RGB image\n",
    "\n",
    "```bit depth``` is defined as the number of bits used to represent the intensity value of a pixel\n",
    "\n",
    "```1-bit``` has two labels --> black and white\n",
    "\n",
    "```8-bit``` has 256 labels of gray scaling here 0 represent black and 255 represent white and remaining represent shades of gray\n",
    "\n",
    "```24-bit``` is for color images and each pixel has 3 components --> red ,green and blue (8-bit for each component)\n",
    "so total shades are 2^8*2^8*2^8= 256*256*256=16777216\n"
   ]
  },
  {
   "cell_type": "markdown",
   "id": "b786555b",
   "metadata": {},
   "source": [
    "libraries for Cnn --> 1. open cv (this is a c++ library which have python integration)\n",
    "                     \n",
    "                      2. pillow ()"
   ]
  },
  {
   "cell_type": "markdown",
   "id": "9fc7c632",
   "metadata": {},
   "source": [
    "## Architecture of Cnn\n",
    "\n",
    "<img src=\"CNN Architecutre.png\">"
   ]
  },
  {
   "cell_type": "markdown",
   "id": "7508901f",
   "metadata": {},
   "source": [
    "1. convoultion layer --> it works is feature extraction (feature vo hota hai jisse aapki image banni hui hoti and edge hoti hai aapki change in intensity hoti hai and )\n",
    "\n",
    "yeh kese features ko extract karti hai --> pehle yeh detect karti hai ki change in intensity kaha hai \n",
    "\n",
    "then we again apply convolution layer ese karke yeh features nikalti hai.\n",
    "\n",
    "then we apply filters/ kernal\n",
    "\n",
    "<img src =\"convo.jpg\">\n",
    "\n",
    "#### edge detection via mathematical operations"
   ]
  },
  {
   "cell_type": "markdown",
   "id": "11cb1e31",
   "metadata": {},
   "source": [
    "in this let's take a matrix of 6*6 and we have a filter of 3*3  then we apply multiplication by matrix slicing by placing 3*3 upon 6*6 matrix "
   ]
  },
  {
   "cell_type": "markdown",
   "id": "e1d8e90f",
   "metadata": {},
   "source": [
    "<img src=\"convomulti.jpg\">"
   ]
  },
  {
   "cell_type": "markdown",
   "id": "0a289e58",
   "metadata": {},
   "source": [
    "after multiplication we get a 4*4 matrix and we have to find the sum of all the elements of this matrix\n",
    "\n",
    "we use feature map for final result via formula (n-m+1)(n-m+1) \n",
    "final solution is(6-3+1)(6-3+1)=4*4=16\n",
    "\n",
    "for more info visit the site [https://deeplizard.com/resource/pavq7noze2]"
   ]
  },
  {
   "cell_type": "markdown",
   "id": "a1b8faef",
   "metadata": {},
   "source": [
    "### drawback of Cnn\n",
    "1. memory issue\n",
    "\n",
    "2. translation variance --> translation variance is defined as the ability of a model to generalize to new data that is different from the training data.\n",
    "\n",
    "<img src=\"drawback.jpg\">\n"
   ]
  },
  {
   "cell_type": "markdown",
   "id": "b01fa3e0",
   "metadata": {},
   "source": [
    "## 2. Pooling Layer\n"
   ]
  },
  {
   "cell_type": "markdown",
   "id": "48a59a8a",
   "metadata": {},
   "source": [
    "Working --> it is defined as downsampling of the feature map (multi imp features extract)"
   ]
  },
  {
   "cell_type": "markdown",
   "id": "eafff2d7",
   "metadata": {},
   "source": [
    "types of pooling -->\n",
    "1. max pooling --> most common used one\n",
    "\n",
    "2. min pooling\n",
    "\n",
    "3. average pooling\n",
    "\n",
    "4. l 2\n",
    "\n",
    "5. global --> max and avg pooling\n",
    "\n"
   ]
  },
  {
   "cell_type": "markdown",
   "id": "52fd1b19",
   "metadata": {},
   "source": [
    "when you apply pl you have to tell about these parameters: -->\n",
    "1. kernel size --> (2,2) means final matrix size\n",
    "2. stride -> 2 means skipping of 2 rows and 2 columns\n",
    "3. type -> max or min or avg or l2 means taking value according to that like max will take max value and min will take min value"
   ]
  },
  {
   "cell_type": "markdown",
   "id": "fd124f84",
   "metadata": {},
   "source": [
    "\n",
    "\n",
    "<img src=\"pooling.jpg\">"
   ]
  },
  {
   "cell_type": "markdown",
   "id": "1948b9ba",
   "metadata": {},
   "source": [
    "formula for stride is (n-m/s + 1)"
   ]
  },
  {
   "cell_type": "markdown",
   "id": "95bb5425",
   "metadata": {},
   "source": [
    "--> downsampling is good or bad ?\n",
    "    it means extracting features \n",
    "\n",
    "\n",
    "#### padding \n",
    "\n",
    "padding is defined as adding extra pixels to the image to make it square (filled by 0 values)\n",
    "\n",
    "by adding making 6 * 6 to 7 * 7\n",
    "\n",
    "formula is (n+2p-m+1) = (6+2*1-3+1) = 6\n",
    "\n",
    "formula when padding and stride is applied = (n+2p-m/s +1 )"
   ]
  },
  {
   "cell_type": "markdown",
   "id": "beddde45",
   "metadata": {},
   "source": [
    "# CNN is applicable to classification task "
   ]
  },
  {
   "cell_type": "markdown",
   "id": "74a99863",
   "metadata": {},
   "source": [
    "### loss which are applied are classified into binary(log loss) and multiclass (soft-max)"
   ]
  },
  {
   "cell_type": "markdown",
   "id": "0475b64b",
   "metadata": {},
   "source": [
    "# popular architecture of cnn\n",
    "1. alexnet\n",
    "2. googlenet\n",
    "3. resnet\n",
    "4. vggnet \n",
    "5. inceptionnet\n",
    "6. bggnet\n",
    "7. densenet and so on"
   ]
  },
  {
   "cell_type": "markdown",
   "id": "90155090",
   "metadata": {},
   "source": []
  }
 ],
 "metadata": {
  "language_info": {
   "name": "python"
  }
 },
 "nbformat": 4,
 "nbformat_minor": 5
}
