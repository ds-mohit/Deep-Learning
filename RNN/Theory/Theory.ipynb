{
 "cells": [
  {
   "cell_type": "markdown",
   "id": "f1ab69c6",
   "metadata": {},
   "source": [
    "RNN --> this takes sequential data  --> order important\n",
    "                                    --> semantic meaning understand better than ANN"
   ]
  },
  {
   "cell_type": "markdown",
   "id": "caf56103",
   "metadata": {},
   "source": [
    "    x1    x2    x3    ...    xt\n",
    "     ↓     ↓     ↓           ↓\n",
    "     h1 →  h2 →  h3 → ... →  ht\n",
    "     ↓     ↓     ↓           ↓\n",
    "     y1    y2    y3          yt\n",
    "\n",
    "\n",
    "\n",
    "     xₜ: input at time t\n",
    "\n",
    "hₜ: hidden state (memory) at time t, depends on xₜ and hₜ₋₁\n",
    "\n",
    "yₜ: output at time t\n",
    "\n",
    "Hidden state formula: hₜ = f(Wx * xₜ + Wh * hₜ₋₁ + b)\n",
    "\n",
    "\n",
    "\n",
    "\n"
   ]
  },
  {
   "cell_type": "markdown",
   "id": "2896c702",
   "metadata": {},
   "source": [
    "types -->\n",
    "1. simple Rnn --> vanilla rnn\n",
    "2. LSTM (long short term memory)\n",
    "3. bidirectional Rnn\n",
    "4. GRU (gated recurrent unit)\n",
    "5. encoder and decoder\n",
    "6. transformer (most important used in chatbots like chatgpt,gemini)\n",
    "7. self "
   ]
  },
  {
   "cell_type": "markdown",
   "id": "83426968",
   "metadata": {},
   "source": [
    "GeneratorAI --> LLm, multimodel\n",
    "simple RNN --> LSTM / GRU rnn --> Bidirectional Rnn --> encoder/decoder --> self  --> transformers\n"
   ]
  },
  {
   "cell_type": "markdown",
   "id": "821bcb60",
   "metadata": {},
   "source": [
    "<img src=\"RNNarchi.jpg\" style=\"transform: rotate(270deg);\" />\n"
   ]
  },
  {
   "cell_type": "markdown",
   "id": "ff19478e",
   "metadata": {},
   "source": [
    "🧠 What is a forward pass?\n",
    "\n",
    "In the forward pass, the model processes input data from start to end, calculating the hidden states and outputs at each time step."
   ]
  },
  {
   "cell_type": "markdown",
   "id": "7380c2c4",
   "metadata": {},
   "source": [
    "### architecture -->\n",
    "\n",
    "Time →      t1        t2        t3\n",
    "  \n",
    "           ┌───┐     ┌───┐     ┌───┐\n",
    "\n",
    "Input →    │x1 │     │x2 │     │x3 │\n",
    "\n",
    "           └↓──┘     └↓──┘     └↓──┘\n",
    "\n",
    "         ┌─────┐   ┌─────┐   ┌─────┐\n",
    "\n",
    "Hidden  →│ h1  │←──│ h2  │←──│ h3  │\n",
    "\n",
    "         └─↓───┘   └─↓───┘   └─↓───┘\n",
    "\n",
    "Output →  y1        y2        y3\n"
   ]
  },
  {
   "cell_type": "markdown",
   "id": "8a31ee90",
   "metadata": {},
   "source": [
    "🔢 Formula for forward pass at time t:\n",
    "1. Compute hidden state hₜ:ℎ𝑡=tanh⁡(𝑊xX𝑡+𝑊ℎH𝑡−1+𝑏)h t =tanh(WxXt +Wh Ht−1 +b)\n",
    "2. Compute output yₜ:𝑦𝑡=𝑊𝑦H𝑡+𝑏𝑦Yt =WyHt +by\n",
    "​\n",
    " \n"
   ]
  },
  {
   "cell_type": "markdown",
   "id": "46c36ad7",
   "metadata": {},
   "source": [
    "🔁 What is Backpropagation Through Time (BPTT)?\n",
    "BPTT is the backward pass used to train RNNs.\n",
    "It extends the standard backpropagation algorithm by unrolling the RNN through time and computing gradients at each time step.\n",
    "\n"
   ]
  },
  {
   "cell_type": "markdown",
   "id": "76e4abd9",
   "metadata": {},
   "source": [
    "Time →     t1         t2         t3\n",
    "\n",
    "         ┌────┐     ┌────┐     ┌────┐\n",
    "x1 →     │ Wx │     │ Wx │     │ Wx |\n",
    "\n",
    "         └↓───┘     └↓───┘     └↓───┘\n",
    "\n",
    "         ┌────┐     ┌────┐     ┌────┐\n",
    "h0 →     │ Wh │ →   │ Wh │ →   │ Wh │\n",
    "\n",
    "         └↓───┘     └↓───┘     └↓───┘\n",
    "\n",
    "         h1         h2         h3\n",
    "         ↓          ↓          ↓\n",
    "\n",
    "         y1         y2         y3\n",
    "\n",
    "         ↓          ↓          ↓\n",
    "       Loss1      Loss2      Loss3\n",
    "       \n",
    "         ↑          ↑          ↑\n",
    "  Backpropagate gradients (BPTT)\n"
   ]
  },
  {
   "cell_type": "markdown",
   "id": "5a85b16c",
   "metadata": {},
   "source": [
    "<img src =\"formulabackp.png\">"
   ]
  },
  {
   "cell_type": "markdown",
   "id": "cafbdcee",
   "metadata": {},
   "source": [
    "⚠️ Common Challenges\n",
    "1. Vanishing Gradients\n",
    "Gradients become very small as they propagate backward in time\n",
    "\n",
    "Long-term dependencies are hard to learn\n",
    "\n",
    "2. Exploding Gradients\n",
    "Gradients grow exponentially, leading to instability\n",
    "\n",
    "Can be fixed with gradient clipping"
   ]
  },
  {
   "cell_type": "markdown",
   "id": "e099c9b0",
   "metadata": {},
   "source": [
    "#### for more info visit the blog\n",
    "[https://colah.github.io/]"
   ]
  },
  {
   "cell_type": "markdown",
   "id": "5dd6d900",
   "metadata": {},
   "source": []
  }
 ],
 "metadata": {
  "language_info": {
   "name": "python"
  }
 },
 "nbformat": 4,
 "nbformat_minor": 5
}
